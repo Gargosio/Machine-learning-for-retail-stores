{
    "cells": [
        {
            "cell_type": "markdown",
            "metadata": {
                "collapsed": true
            },
            "source": "# Cluster Analysis Notebook"
        },
        {
            "cell_type": "code",
            "execution_count": 3,
            "metadata": {},
            "outputs": [],
            "source": "### Importing Data files\n"
        },
        {
            "cell_type": "code",
            "execution_count": null,
            "metadata": {},
            "outputs": [],
            "source": "#Import Product DataSet here\nimport types\nimport pandas as pd\nfrom botocore.client import Config\nimport ibm_boto3\nproduct_data = pd.read_csv(body,sep='|')\nproduct_data.head()"
        },
        {
            "cell_type": "code",
            "execution_count": 6,
            "metadata": {},
            "outputs": [
                {
                    "data": {
                        "text/html": "<div>\n<style scoped>\n    .dataframe tbody tr th:only-of-type {\n        vertical-align: middle;\n    }\n\n    .dataframe tbody tr th {\n        vertical-align: top;\n    }\n\n    .dataframe thead th {\n        text-align: right;\n    }\n</style>\n<table border=\"1\" class=\"dataframe\">\n  <thead>\n    <tr style=\"text-align: right;\">\n      <th></th>\n      <th>PRODUCT CODE</th>\n      <th>PRODUCT CATEGORY</th>\n      <th>UNIT LIST PRICE</th>\n    </tr>\n  </thead>\n  <tbody>\n    <tr>\n      <th>0</th>\n      <td>30001</td>\n      <td>HEALTH &amp; BEAUTY</td>\n      <td>$7.45</td>\n    </tr>\n    <tr>\n      <th>1</th>\n      <td>30002</td>\n      <td>HEALTH &amp; BEAUTY</td>\n      <td>$5.35</td>\n    </tr>\n    <tr>\n      <th>2</th>\n      <td>30003</td>\n      <td>HEALTH &amp; BEAUTY</td>\n      <td>$5.49</td>\n    </tr>\n    <tr>\n      <th>3</th>\n      <td>30004</td>\n      <td>HEALTH &amp; BEAUTY</td>\n      <td>$6.46</td>\n    </tr>\n    <tr>\n      <th>4</th>\n      <td>30005</td>\n      <td>HEALTH &amp; BEAUTY</td>\n      <td>$7.33</td>\n    </tr>\n  </tbody>\n</table>\n</div>",
                        "text/plain": "   PRODUCT CODE PRODUCT CATEGORY UNIT LIST PRICE\n0         30001  HEALTH & BEAUTY          $7.45 \n1         30002  HEALTH & BEAUTY          $5.35 \n2         30003  HEALTH & BEAUTY          $5.49 \n3         30004  HEALTH & BEAUTY          $6.46 \n4         30005  HEALTH & BEAUTY          $7.33 "
                    },
                    "execution_count": 6,
                    "metadata": {},
                    "output_type": "execute_result"
                }
            ],
            "source": "# The code was removed by Watson Studio for sharing."
        },
        {
            "cell_type": "code",
            "execution_count": 7,
            "metadata": {},
            "outputs": [
                {
                    "data": {
                        "text/html": "<div>\n<style scoped>\n    .dataframe tbody tr th:only-of-type {\n        vertical-align: middle;\n    }\n\n    .dataframe tbody tr th {\n        vertical-align: top;\n    }\n\n    .dataframe thead th {\n        text-align: right;\n    }\n</style>\n<table border=\"1\" class=\"dataframe\">\n  <thead>\n    <tr style=\"text-align: right;\">\n      <th></th>\n      <th>CUSTOMER NUM</th>\n      <th>PRODUCT NUM</th>\n      <th>QUANTITY PURCHASED</th>\n      <th>DISCOUNT TAKEN</th>\n      <th>TRANSACTION DATE</th>\n      <th>STOCKOUT</th>\n    </tr>\n  </thead>\n  <tbody>\n    <tr>\n      <th>0</th>\n      <td>10114</td>\n      <td>30011</td>\n      <td>4</td>\n      <td>0.0</td>\n      <td>1/2/2015</td>\n      <td>0</td>\n    </tr>\n    <tr>\n      <th>1</th>\n      <td>10217</td>\n      <td>30016</td>\n      <td>3</td>\n      <td>0.0</td>\n      <td>1/2/2015</td>\n      <td>0</td>\n    </tr>\n    <tr>\n      <th>2</th>\n      <td>10224</td>\n      <td>30013</td>\n      <td>4</td>\n      <td>0.0</td>\n      <td>1/2/2015</td>\n      <td>0</td>\n    </tr>\n    <tr>\n      <th>3</th>\n      <td>10103</td>\n      <td>30012</td>\n      <td>3</td>\n      <td>0.2</td>\n      <td>1/2/2015</td>\n      <td>0</td>\n    </tr>\n    <tr>\n      <th>4</th>\n      <td>10037</td>\n      <td>30010</td>\n      <td>8</td>\n      <td>0.0</td>\n      <td>1/2/2015</td>\n      <td>0</td>\n    </tr>\n  </tbody>\n</table>\n</div>",
                        "text/plain": "   CUSTOMER NUM  PRODUCT NUM  QUANTITY PURCHASED  DISCOUNT TAKEN  \\\n0         10114        30011                   4             0.0   \n1         10217        30016                   3             0.0   \n2         10224        30013                   4             0.0   \n3         10103        30012                   3             0.2   \n4         10037        30010                   8             0.0   \n\n  TRANSACTION DATE  STOCKOUT  \n0         1/2/2015         0  \n1         1/2/2015         0  \n2         1/2/2015         0  \n3         1/2/2015         0  \n4         1/2/2015         0  "
                    },
                    "execution_count": 7,
                    "metadata": {},
                    "output_type": "execute_result"
                }
            ],
            "source": "#Import Transaction DataSet here\nbody = client_4c73b4e9125d48cf93a58e32e4df6b8a.get_object(Bucket='datascienceproject-donotdelete-pr-knsi3l5zevhael',Key='Transaction Data Set - Student 3 of 3.csv')['Body']\n# add missing __iter__ method, so pandas accepts body as file-like object\nif not hasattr(body, \"__iter__\"): body.__iter__ = types.MethodType( __iter__, body )\n\ntransaction_data = pd.read_csv(body,sep='|')\ntransaction_data.head()\n"
        },
        {
            "cell_type": "code",
            "execution_count": 8,
            "metadata": {},
            "outputs": [
                {
                    "data": {
                        "text/html": "<div>\n<style scoped>\n    .dataframe tbody tr th:only-of-type {\n        vertical-align: middle;\n    }\n\n    .dataframe tbody tr th {\n        vertical-align: top;\n    }\n\n    .dataframe thead th {\n        text-align: right;\n    }\n</style>\n<table border=\"1\" class=\"dataframe\">\n  <thead>\n    <tr style=\"text-align: right;\">\n      <th></th>\n      <th>CUSTOMERID</th>\n      <th>GENDER</th>\n      <th>AGE</th>\n      <th>INCOME</th>\n      <th>EXPERIENCE SCORE</th>\n      <th>LOYALTY GROUP</th>\n      <th>ENROLLMENT DATE</th>\n      <th>HOUSEHOLD SIZE</th>\n      <th>MARITAL STATUS</th>\n    </tr>\n  </thead>\n  <tbody>\n    <tr>\n      <th>0</th>\n      <td>10001</td>\n      <td>0</td>\n      <td>64</td>\n      <td>$133,498</td>\n      <td>5</td>\n      <td>enrolled</td>\n      <td>06-03-2013</td>\n      <td>4</td>\n      <td>Single</td>\n    </tr>\n    <tr>\n      <th>1</th>\n      <td>10002</td>\n      <td>0</td>\n      <td>42</td>\n      <td>$94,475</td>\n      <td>9</td>\n      <td>notenrolled</td>\n      <td>NaN</td>\n      <td>6</td>\n      <td>Married</td>\n    </tr>\n    <tr>\n      <th>2</th>\n      <td>10003</td>\n      <td>0</td>\n      <td>40</td>\n      <td>$88,610</td>\n      <td>9</td>\n      <td>enrolled</td>\n      <td>02-09-2010</td>\n      <td>5</td>\n      <td>Married</td>\n    </tr>\n    <tr>\n      <th>3</th>\n      <td>10004</td>\n      <td>0</td>\n      <td>38</td>\n      <td>$84,313</td>\n      <td>8</td>\n      <td>enrolled</td>\n      <td>06-04-2015</td>\n      <td>1</td>\n      <td>Single</td>\n    </tr>\n    <tr>\n      <th>4</th>\n      <td>10005</td>\n      <td>0</td>\n      <td>30</td>\n      <td>$51,498</td>\n      <td>3</td>\n      <td>notenrolled</td>\n      <td>NaN</td>\n      <td>1</td>\n      <td>Single</td>\n    </tr>\n  </tbody>\n</table>\n</div>",
                        "text/plain": "   CUSTOMERID  GENDER  AGE    INCOME  EXPERIENCE SCORE LOYALTY GROUP  \\\n0       10001       0   64  $133,498                 5      enrolled   \n1       10002       0   42   $94,475                 9   notenrolled   \n2       10003       0   40   $88,610                 9      enrolled   \n3       10004       0   38   $84,313                 8      enrolled   \n4       10005       0   30   $51,498                 3   notenrolled   \n\n  ENROLLMENT DATE  HOUSEHOLD SIZE MARITAL STATUS  \n0      06-03-2013               4         Single  \n1             NaN               6        Married  \n2      02-09-2010               5        Married  \n3      06-04-2015               1         Single  \n4             NaN               1         Single  "
                    },
                    "execution_count": 8,
                    "metadata": {},
                    "output_type": "execute_result"
                }
            ],
            "source": "#Import Customer Dataset Here\nbody = client_4c73b4e9125d48cf93a58e32e4df6b8a.get_object(Bucket='datascienceproject-donotdelete-pr-knsi3l5zevhael',Key='Customer Data Set - Student 1 of 3.csv')['Body']\n# add missing __iter__ method, so pandas accepts body as file-like object\nif not hasattr(body, \"__iter__\"): body.__iter__ = types.MethodType( __iter__, body )\n\ncustomer_data=pd.read_csv(body)\ncustomer_data.head()\n"
        },
        {
            "cell_type": "markdown",
            "metadata": {},
            "source": "### Changing data types"
        },
        {
            "cell_type": "code",
            "execution_count": 9,
            "metadata": {},
            "outputs": [],
            "source": "customer_data['INCOME']=customer_data['INCOME'].map(lambda x : x.replace('$',''))"
        },
        {
            "cell_type": "code",
            "execution_count": 10,
            "metadata": {},
            "outputs": [],
            "source": "customer_data['INCOME']=customer_data['INCOME'].map(lambda x : int(x.replace(',','')))"
        },
        {
            "cell_type": "markdown",
            "metadata": {},
            "source": "### Creating Customer View"
        },
        {
            "cell_type": "code",
            "execution_count": 11,
            "metadata": {},
            "outputs": [],
            "source": "trans_products=transaction_data.merge(product_data,how='inner', left_on='PRODUCT NUM', right_on='PRODUCT CODE')"
        },
        {
            "cell_type": "code",
            "execution_count": 12,
            "metadata": {},
            "outputs": [],
            "source": "trans_products['UNIT LIST PRICE']=trans_products['UNIT LIST PRICE'].map(lambda x : float(x.replace('$','')))"
        },
        {
            "cell_type": "code",
            "execution_count": 13,
            "metadata": {},
            "outputs": [],
            "source": "trans_products['Total_Price']=trans_products['QUANTITY PURCHASED'] * trans_products['UNIT LIST PRICE'] * (1- trans_products['DISCOUNT TAKEN'])"
        },
        {
            "cell_type": "code",
            "execution_count": 14,
            "metadata": {},
            "outputs": [],
            "source": "customer_prod_categ=trans_products.groupby(['CUSTOMER NUM','PRODUCT CATEGORY']).agg({'Total_Price':'sum'})"
        },
        {
            "cell_type": "code",
            "execution_count": 15,
            "metadata": {},
            "outputs": [],
            "source": "customer_prod_categ=customer_prod_categ.reset_index()"
        },
        {
            "cell_type": "code",
            "execution_count": 16,
            "metadata": {},
            "outputs": [],
            "source": "customer_pivot=customer_prod_categ.pivot(index='CUSTOMER NUM',columns='PRODUCT CATEGORY',values='Total_Price')"
        },
        {
            "cell_type": "code",
            "execution_count": 17,
            "metadata": {},
            "outputs": [],
            "source": "trans_total_spend=trans_products.groupby('CUSTOMER NUM').agg({'Total_Price':'sum'}).\\\nrename(columns={'Total_Price':'TOTAL SPENT'})"
        },
        {
            "cell_type": "code",
            "execution_count": 18,
            "metadata": {},
            "outputs": [],
            "source": "customer_KPIs=customer_pivot.merge(trans_total_spend,how='inner',left_index=True, right_index=True )"
        },
        {
            "cell_type": "code",
            "execution_count": 19,
            "metadata": {},
            "outputs": [],
            "source": "customer_KPIs=customer_KPIs.fillna(0)\n"
        },
        {
            "cell_type": "code",
            "execution_count": 20,
            "metadata": {},
            "outputs": [],
            "source": "customer_all_view=customer_data.merge(customer_KPIs,how='inner', left_on='CUSTOMERID', right_index=True)"
        },
        {
            "cell_type": "code",
            "execution_count": 21,
            "metadata": {},
            "outputs": [
                {
                    "data": {
                        "text/html": "<div>\n<style scoped>\n    .dataframe tbody tr th:only-of-type {\n        vertical-align: middle;\n    }\n\n    .dataframe tbody tr th {\n        vertical-align: top;\n    }\n\n    .dataframe thead th {\n        text-align: right;\n    }\n</style>\n<table border=\"1\" class=\"dataframe\">\n  <thead>\n    <tr style=\"text-align: right;\">\n      <th></th>\n      <th>CUSTOMERID</th>\n      <th>GENDER</th>\n      <th>AGE</th>\n      <th>INCOME</th>\n      <th>EXPERIENCE SCORE</th>\n      <th>LOYALTY GROUP</th>\n      <th>ENROLLMENT DATE</th>\n      <th>HOUSEHOLD SIZE</th>\n      <th>MARITAL STATUS</th>\n      <th>APPAREL</th>\n      <th>ELECTRONICS</th>\n      <th>FOOD</th>\n      <th>HEALTH &amp; BEAUTY</th>\n      <th>TOTAL SPENT</th>\n    </tr>\n  </thead>\n  <tbody>\n    <tr>\n      <th>0</th>\n      <td>10001</td>\n      <td>0</td>\n      <td>64</td>\n      <td>133498</td>\n      <td>5</td>\n      <td>enrolled</td>\n      <td>06-03-2013</td>\n      <td>4</td>\n      <td>Single</td>\n      <td>4022.430</td>\n      <td>1601.315</td>\n      <td>68.688</td>\n      <td>1134.337</td>\n      <td>6826.770</td>\n    </tr>\n    <tr>\n      <th>1</th>\n      <td>10002</td>\n      <td>0</td>\n      <td>42</td>\n      <td>94475</td>\n      <td>9</td>\n      <td>notenrolled</td>\n      <td>NaN</td>\n      <td>6</td>\n      <td>Married</td>\n      <td>2312.509</td>\n      <td>2473.163</td>\n      <td>276.779</td>\n      <td>0.000</td>\n      <td>5062.451</td>\n    </tr>\n    <tr>\n      <th>2</th>\n      <td>10003</td>\n      <td>0</td>\n      <td>40</td>\n      <td>88610</td>\n      <td>9</td>\n      <td>enrolled</td>\n      <td>02-09-2010</td>\n      <td>5</td>\n      <td>Married</td>\n      <td>2887.382</td>\n      <td>5414.418</td>\n      <td>260.640</td>\n      <td>0.000</td>\n      <td>8562.440</td>\n    </tr>\n    <tr>\n      <th>3</th>\n      <td>10004</td>\n      <td>0</td>\n      <td>38</td>\n      <td>84313</td>\n      <td>8</td>\n      <td>enrolled</td>\n      <td>06-04-2015</td>\n      <td>1</td>\n      <td>Single</td>\n      <td>3637.213</td>\n      <td>1840.211</td>\n      <td>45.270</td>\n      <td>0.000</td>\n      <td>5522.694</td>\n    </tr>\n    <tr>\n      <th>4</th>\n      <td>10005</td>\n      <td>0</td>\n      <td>30</td>\n      <td>51498</td>\n      <td>3</td>\n      <td>notenrolled</td>\n      <td>NaN</td>\n      <td>1</td>\n      <td>Single</td>\n      <td>213.512</td>\n      <td>0.000</td>\n      <td>0.000</td>\n      <td>0.000</td>\n      <td>213.512</td>\n    </tr>\n  </tbody>\n</table>\n</div>",
                        "text/plain": "   CUSTOMERID  GENDER  AGE  INCOME  EXPERIENCE SCORE LOYALTY GROUP  \\\n0       10001       0   64  133498                 5      enrolled   \n1       10002       0   42   94475                 9   notenrolled   \n2       10003       0   40   88610                 9      enrolled   \n3       10004       0   38   84313                 8      enrolled   \n4       10005       0   30   51498                 3   notenrolled   \n\n  ENROLLMENT DATE  HOUSEHOLD SIZE MARITAL STATUS   APPAREL  ELECTRONICS  \\\n0      06-03-2013               4         Single  4022.430     1601.315   \n1             NaN               6        Married  2312.509     2473.163   \n2      02-09-2010               5        Married  2887.382     5414.418   \n3      06-04-2015               1         Single  3637.213     1840.211   \n4             NaN               1         Single   213.512        0.000   \n\n      FOOD  HEALTH & BEAUTY  TOTAL SPENT  \n0   68.688         1134.337     6826.770  \n1  276.779            0.000     5062.451  \n2  260.640            0.000     8562.440  \n3   45.270            0.000     5522.694  \n4    0.000            0.000      213.512  "
                    },
                    "execution_count": 21,
                    "metadata": {},
                    "output_type": "execute_result"
                }
            ],
            "source": "customer_all_view.head()"
        },
        {
            "cell_type": "markdown",
            "metadata": {},
            "source": "# Clustering  "
        },
        {
            "cell_type": "code",
            "execution_count": 22,
            "metadata": {},
            "outputs": [],
            "source": "#Begin Writing your code here\nfrom sklearn.cluster import KMeans\nfrom sklearn.cluster import AgglomerativeClustering"
        },
        {
            "cell_type": "code",
            "execution_count": 23,
            "metadata": {},
            "outputs": [
                {
                    "data": {
                        "text/html": "<div>\n<style scoped>\n    .dataframe tbody tr th:only-of-type {\n        vertical-align: middle;\n    }\n\n    .dataframe tbody tr th {\n        vertical-align: top;\n    }\n\n    .dataframe thead th {\n        text-align: right;\n    }\n</style>\n<table border=\"1\" class=\"dataframe\">\n  <thead>\n    <tr style=\"text-align: right;\">\n      <th></th>\n      <th>INCOME</th>\n      <th>TOTAL SPENT</th>\n    </tr>\n  </thead>\n  <tbody>\n    <tr>\n      <th>0</th>\n      <td>133498</td>\n      <td>6826.770</td>\n    </tr>\n    <tr>\n      <th>1</th>\n      <td>94475</td>\n      <td>5062.451</td>\n    </tr>\n    <tr>\n      <th>2</th>\n      <td>88610</td>\n      <td>8562.440</td>\n    </tr>\n    <tr>\n      <th>3</th>\n      <td>84313</td>\n      <td>5522.694</td>\n    </tr>\n    <tr>\n      <th>4</th>\n      <td>51498</td>\n      <td>213.512</td>\n    </tr>\n  </tbody>\n</table>\n</div>",
                        "text/plain": "   INCOME  TOTAL SPENT\n0  133498     6826.770\n1   94475     5062.451\n2   88610     8562.440\n3   84313     5522.694\n4   51498      213.512"
                    },
                    "execution_count": 23,
                    "metadata": {},
                    "output_type": "execute_result"
                }
            ],
            "source": "cluster_input=customer_all_view[['INCOME','TOTAL SPENT']]\ncluster_input.head(5)"
        },
        {
            "cell_type": "code",
            "execution_count": 24,
            "metadata": {},
            "outputs": [],
            "source": "Kmeans_model=KMeans(n_clusters=4)"
        },
        {
            "cell_type": "code",
            "execution_count": 25,
            "metadata": {},
            "outputs": [
                {
                    "data": {
                        "text/plain": "KMeans(algorithm='auto', copy_x=True, init='k-means++', max_iter=300,\n    n_clusters=4, n_init=10, n_jobs=None, precompute_distances='auto',\n    random_state=None, tol=0.0001, verbose=0)"
                    },
                    "execution_count": 25,
                    "metadata": {},
                    "output_type": "execute_result"
                }
            ],
            "source": "Kmeans_model"
        },
        {
            "cell_type": "code",
            "execution_count": 26,
            "metadata": {},
            "outputs": [],
            "source": "#Run the K-means cluster algorithm on the input by using \u201cfit_predict\u201d method:\ncluster_output = Kmeans_model.fit_predict(cluster_input)\n"
        },
        {
            "cell_type": "code",
            "execution_count": 39,
            "metadata": {},
            "outputs": [
                {
                    "data": {
                        "text/plain": "array([2, 3, 3, 3, 1, 2, 3, 0, 0, 3, 1, 0, 3, 3, 1, 3, 3, 0, 2, 1, 0, 0,\n       0, 1, 0, 0, 3, 1, 1, 2, 3, 1, 1, 3, 1, 1, 1, 0, 0, 1, 1, 3, 3, 3,\n       2, 1, 1, 3, 2, 1, 0, 1, 1, 1, 0, 1, 0, 0, 0, 1, 3, 0, 2, 0, 2, 3,\n       3, 0, 1, 3, 3, 1, 1, 3, 2, 1, 3, 1, 3, 2, 3, 0, 2, 0, 1, 0, 2, 1,\n       3, 1, 0, 2, 0, 0, 0, 3, 0, 1, 2, 0, 1, 1, 1, 1, 3, 0, 0, 1, 3, 1,\n       1, 1, 3, 1, 0, 1, 2, 2, 3, 3, 1, 3, 0, 1, 3, 3, 0, 3, 1, 2, 3, 3,\n       1, 3, 2, 3, 2, 2, 0, 3, 3, 1, 1, 1, 3, 0, 3, 1, 0, 3, 3, 0, 0, 0,\n       3, 0, 1, 1, 0, 1, 2, 1, 2, 0, 1, 3, 1, 2, 3, 1, 2, 1, 0, 0, 2, 1,\n       2, 2, 0, 1, 2, 1, 3, 1, 0, 2, 0, 0, 1, 2, 1, 0, 0, 2, 0, 2, 0, 2,\n       0, 3, 0, 1, 2, 2, 0, 1, 3, 2, 2, 2, 2, 1, 0, 3, 2, 0, 1, 0, 3, 1,\n       3, 1, 0, 1, 1, 1, 0, 1, 1, 3, 0, 3, 0, 3, 3, 1, 0, 2, 1, 1, 1, 3,\n       3, 3, 3, 1, 0, 0, 2, 1, 3, 0, 1, 0, 1, 3, 1, 2, 0, 0, 1, 2, 1, 3,\n       3, 2, 0, 3, 3, 0, 2, 1, 2, 1, 1, 1, 2, 3, 0, 0, 0, 3, 3, 3, 2, 3,\n       0, 3, 0, 2, 2, 1, 1, 2, 1, 1, 1, 1, 3, 3, 1, 3, 3, 2, 1, 2, 1, 1,\n       2, 1, 1, 0, 3, 3, 3, 3, 1, 2, 0, 1, 0, 3, 1, 3, 1, 1, 3, 1, 0, 1,\n       1, 0, 1, 3, 3, 1, 1, 0, 0, 0, 0, 2, 0, 3, 0, 0, 3, 2, 0, 3, 1, 3,\n       1, 0, 2, 2, 0, 3, 1, 3, 2, 3, 1, 0, 3, 1, 3, 0, 0, 3, 0, 3, 3, 2,\n       3, 2, 0, 3, 1, 0, 3, 1, 1, 1, 2, 3, 1, 3, 2, 1, 2, 1, 3, 2, 1, 0,\n       2, 3, 2, 3, 0, 2, 1, 1, 2, 3, 1, 2, 3, 3, 2, 0, 1, 3, 2, 1, 0, 0,\n       2, 1, 1, 3, 3, 3, 0, 3, 2, 0, 3, 1, 0, 3, 3, 1, 2, 3, 0, 0, 3, 0,\n       0, 1, 1, 2, 1, 3, 2, 1, 1, 3, 1, 1, 1, 1, 2, 3, 0, 0, 3, 1, 2, 3,\n       0, 3, 2, 0, 3, 1, 1, 0, 2, 3, 2, 0, 0, 3, 3, 3, 1, 1, 1, 0, 0, 2,\n       3, 1, 3, 1, 0, 2, 3, 3, 2, 3, 1, 0, 0, 0, 1, 3], dtype=int32)"
                    },
                    "execution_count": 39,
                    "metadata": {},
                    "output_type": "execute_result"
                }
            ],
            "source": "#note that the result is a numpy array and not a pandas dataframe. Since we chose 4 clusters, \n#all datasets are indexed from 0-3 depending on where they fall\ncluster_output"
        },
        {
            "cell_type": "code",
            "execution_count": 27,
            "metadata": {},
            "outputs": [
                {
                    "data": {
                        "text/plain": "numpy.ndarray"
                    },
                    "execution_count": 27,
                    "metadata": {},
                    "output_type": "execute_result"
                }
            ],
            "source": "type(cluster_output)"
        },
        {
            "cell_type": "code",
            "execution_count": 28,
            "metadata": {},
            "outputs": [
                {
                    "data": {
                        "text/html": "<div>\n<style scoped>\n    .dataframe tbody tr th:only-of-type {\n        vertical-align: middle;\n    }\n\n    .dataframe tbody tr th {\n        vertical-align: top;\n    }\n\n    .dataframe thead th {\n        text-align: right;\n    }\n</style>\n<table border=\"1\" class=\"dataframe\">\n  <thead>\n    <tr style=\"text-align: right;\">\n      <th></th>\n      <th>PRODUCT CODE</th>\n      <th>PRODUCT CATEGORY</th>\n      <th>UNIT LIST PRICE</th>\n    </tr>\n  </thead>\n  <tbody>\n    <tr>\n      <th>0</th>\n      <td>30001</td>\n      <td>HEALTH &amp; BEAUTY</td>\n      <td>$7.45</td>\n    </tr>\n    <tr>\n      <th>1</th>\n      <td>30002</td>\n      <td>HEALTH &amp; BEAUTY</td>\n      <td>$5.35</td>\n    </tr>\n    <tr>\n      <th>2</th>\n      <td>30003</td>\n      <td>HEALTH &amp; BEAUTY</td>\n      <td>$5.49</td>\n    </tr>\n    <tr>\n      <th>3</th>\n      <td>30004</td>\n      <td>HEALTH &amp; BEAUTY</td>\n      <td>$6.46</td>\n    </tr>\n    <tr>\n      <th>4</th>\n      <td>30005</td>\n      <td>HEALTH &amp; BEAUTY</td>\n      <td>$7.33</td>\n    </tr>\n  </tbody>\n</table>\n</div>",
                        "text/plain": "   PRODUCT CODE PRODUCT CATEGORY UNIT LIST PRICE\n0         30001  HEALTH & BEAUTY          $7.45 \n1         30002  HEALTH & BEAUTY          $5.35 \n2         30003  HEALTH & BEAUTY          $5.49 \n3         30004  HEALTH & BEAUTY          $6.46 \n4         30005  HEALTH & BEAUTY          $7.33 "
                    },
                    "execution_count": 28,
                    "metadata": {},
                    "output_type": "execute_result"
                }
            ],
            "source": "#observing pandas data frame\nproduct_data.head()"
        },
        {
            "cell_type": "code",
            "execution_count": 29,
            "metadata": {},
            "outputs": [
                {
                    "data": {
                        "text/plain": "array([[30001, 'HEALTH & BEAUTY', ' $7.45 '],\n       [30002, 'HEALTH & BEAUTY', ' $5.35 '],\n       [30003, 'HEALTH & BEAUTY', ' $5.49 '],\n       [30004, 'HEALTH & BEAUTY', ' $6.46 '],\n       [30005, 'HEALTH & BEAUTY', ' $7.33 ']], dtype=object)"
                    },
                    "execution_count": 29,
                    "metadata": {},
                    "output_type": "execute_result"
                }
            ],
            "source": "#observing numpy version of the dataset\nproduct_data.head().values"
        },
        {
            "cell_type": "code",
            "execution_count": 30,
            "metadata": {},
            "outputs": [
                {
                    "data": {
                        "text/plain": "' $5.35 '"
                    },
                    "execution_count": 30,
                    "metadata": {},
                    "output_type": "execute_result"
                }
            ],
            "source": "#notice that in numpy the values are arranged in an array indexed as [row,column],starting at index 0.Thus to view the value of row 1 column2\nproduct_data.head().values[1,2]"
        },
        {
            "cell_type": "code",
            "execution_count": 31,
            "metadata": {},
            "outputs": [
                {
                    "data": {
                        "text/plain": "array([30002, 'HEALTH & BEAUTY', ' $5.35 '], dtype=object)"
                    },
                    "execution_count": 31,
                    "metadata": {},
                    "output_type": "execute_result"
                }
            ],
            "source": "#to view all columns of row 1\nproduct_data.head().values[1,:]"
        },
        {
            "cell_type": "code",
            "execution_count": 32,
            "metadata": {},
            "outputs": [],
            "source": "#convert the 1-dimensional NumPy output array to a Pandas data frame\ncluster_output_pd=pd.DataFrame(cluster_output,columns=['segment'])"
        },
        {
            "cell_type": "code",
            "execution_count": 33,
            "metadata": {},
            "outputs": [
                {
                    "data": {
                        "text/html": "<div>\n<style scoped>\n    .dataframe tbody tr th:only-of-type {\n        vertical-align: middle;\n    }\n\n    .dataframe tbody tr th {\n        vertical-align: top;\n    }\n\n    .dataframe thead th {\n        text-align: right;\n    }\n</style>\n<table border=\"1\" class=\"dataframe\">\n  <thead>\n    <tr style=\"text-align: right;\">\n      <th></th>\n      <th>segment</th>\n    </tr>\n  </thead>\n  <tbody>\n    <tr>\n      <th>0</th>\n      <td>3</td>\n    </tr>\n    <tr>\n      <th>1</th>\n      <td>1</td>\n    </tr>\n    <tr>\n      <th>2</th>\n      <td>0</td>\n    </tr>\n    <tr>\n      <th>3</th>\n      <td>0</td>\n    </tr>\n    <tr>\n      <th>4</th>\n      <td>2</td>\n    </tr>\n  </tbody>\n</table>\n</div>",
                        "text/plain": "   segment\n0        3\n1        1\n2        0\n3        0\n4        2"
                    },
                    "execution_count": 33,
                    "metadata": {},
                    "output_type": "execute_result"
                }
            ],
            "source": "#Verify that \u201ccluster_output_pd\u201d is a Pandas data frame with a single column called \u201csegment\u201d by using the following code:\ncluster_output_pd.head()"
        },
        {
            "cell_type": "code",
            "execution_count": 34,
            "metadata": {},
            "outputs": [],
            "source": "#Merge the cluster input containing the income and total spending for each customer and the cluster output, \n#which contains the cluster index, by using the following code:\nsegment_DF=pd.concat([cluster_input,cluster_output_pd],axis=1)"
        },
        {
            "cell_type": "code",
            "execution_count": 35,
            "metadata": {},
            "outputs": [
                {
                    "data": {
                        "text/html": "<div>\n<style scoped>\n    .dataframe tbody tr th:only-of-type {\n        vertical-align: middle;\n    }\n\n    .dataframe tbody tr th {\n        vertical-align: top;\n    }\n\n    .dataframe thead th {\n        text-align: right;\n    }\n</style>\n<table border=\"1\" class=\"dataframe\">\n  <thead>\n    <tr style=\"text-align: right;\">\n      <th></th>\n      <th>INCOME</th>\n      <th>TOTAL SPENT</th>\n      <th>segment</th>\n    </tr>\n  </thead>\n  <tbody>\n    <tr>\n      <th>0</th>\n      <td>133498</td>\n      <td>6826.770</td>\n      <td>3</td>\n    </tr>\n    <tr>\n      <th>1</th>\n      <td>94475</td>\n      <td>5062.451</td>\n      <td>1</td>\n    </tr>\n    <tr>\n      <th>2</th>\n      <td>88610</td>\n      <td>8562.440</td>\n      <td>0</td>\n    </tr>\n    <tr>\n      <th>3</th>\n      <td>84313</td>\n      <td>5522.694</td>\n      <td>0</td>\n    </tr>\n    <tr>\n      <th>4</th>\n      <td>51498</td>\n      <td>213.512</td>\n      <td>2</td>\n    </tr>\n  </tbody>\n</table>\n</div>",
                        "text/plain": "   INCOME  TOTAL SPENT  segment\n0  133498     6826.770        3\n1   94475     5062.451        1\n2   88610     8562.440        0\n3   84313     5522.694        0\n4   51498      213.512        2"
                    },
                    "execution_count": 35,
                    "metadata": {},
                    "output_type": "execute_result"
                }
            ],
            "source": "#Verify output using the following command\nsegment_DF.head()"
        },
        {
            "cell_type": "code",
            "execution_count": 36,
            "metadata": {},
            "outputs": [
                {
                    "data": {
                        "text/plain": "array([[ 76337.14084507,   5260.48642958],\n       [110254.62121212,   7744.12999242],\n       [ 38530.82608696,   2260.43836232],\n       [138471.625     ,   6972.91513636]])"
                    },
                    "execution_count": 36,
                    "metadata": {},
                    "output_type": "execute_result"
                }
            ],
            "source": "#The cluster centroids that are computed by the algorithm can be found by using a method that is called \u201ccluster_centers\u201d. \n#As shown in the output, the first centroid is at Income =39991 and total spend=2424.8\n#Apply the method to the K-means model by using the following code:\nKmeans_model.cluster_centers_\n#should give a 4 by 2 array of the four clusters with the means(centroids) of each cluster for income and total spent"
        },
        {
            "cell_type": "code",
            "execution_count": 41,
            "metadata": {},
            "outputs": [
                {
                    "data": {
                        "text/html": "<div>\n<style scoped>\n    .dataframe tbody tr th:only-of-type {\n        vertical-align: middle;\n    }\n\n    .dataframe tbody tr th {\n        vertical-align: top;\n    }\n\n    .dataframe thead th {\n        text-align: right;\n    }\n</style>\n<table border=\"1\" class=\"dataframe\">\n  <thead>\n    <tr style=\"text-align: right;\">\n      <th></th>\n      <th>INCOME</th>\n      <th>TOTAL SPENT</th>\n      <th>segment</th>\n    </tr>\n  </thead>\n  <tbody>\n    <tr>\n      <th>2</th>\n      <td>88610</td>\n      <td>8562.440</td>\n      <td>0</td>\n    </tr>\n    <tr>\n      <th>3</th>\n      <td>84313</td>\n      <td>5522.694</td>\n      <td>0</td>\n    </tr>\n    <tr>\n      <th>6</th>\n      <td>65002</td>\n      <td>5224.616</td>\n      <td>0</td>\n    </tr>\n    <tr>\n      <th>9</th>\n      <td>76994</td>\n      <td>6620.147</td>\n      <td>0</td>\n    </tr>\n    <tr>\n      <th>12</th>\n      <td>88829</td>\n      <td>4685.902</td>\n      <td>0</td>\n    </tr>\n  </tbody>\n</table>\n</div>",
                        "text/plain": "    INCOME  TOTAL SPENT  segment\n2    88610     8562.440        0\n3    84313     5522.694        0\n6    65002     5224.616        0\n9    76994     6620.147        0\n12   88829     4685.902        0"
                    },
                    "execution_count": 41,
                    "metadata": {},
                    "output_type": "execute_result"
                }
            ],
            "source": "#To select only those segments that belong to the first cluster (cluster index=0), use the following code:\n\nsegment_DF[segment_DF.segment==0].head()\n\n#Condition \u201csegment==0\u201d selects only those assigned to the first cluster. Similarly, you can do the same for other clusters"
        },
        {
            "cell_type": "code",
            "execution_count": 38,
            "metadata": {},
            "outputs": [],
            "source": "#Plot the clustering results. First, import the plotting library by using the following code:\n\nimport matplotlib.pyplot as plt"
        },
        {
            "cell_type": "code",
            "execution_count": 39,
            "metadata": {},
            "outputs": [
                {
                    "data": {
                        "image/png": "[encoded data removed]",
                        "text/plain": "<Figure size 432x288 with 1 Axes>"
                    },
                    "metadata": {
                        "needs_background": "light"
                    },
                    "output_type": "display_data"
                }
            ],
            "source": "#Use the filter condition that was applied in line 54 to select only those customers that belong to the first cluster. \n#Plot their income and age in purple. Select the second cluster and plot their income and age in blue. Repeat for clusters 3 and 4. \n#Plot the cluster centroids that you have computed in step 9.\n#The following code snippet contains many lines of code. The first four lines plot the points that belong to each cluster (0,1,2,3),\n# the fifth line plots the cluster centroids, and the remaining lines set the title, legend, and the axis names for the graph. \n#Copy the code, run it, and observe the scattered cluster plot, which is shown in Figure 3\nplt.scatter(segment_DF[segment_DF.segment==0]['INCOME'],segment_DF[segment_DF.segment==0]['TOTAL SPENT'],s=50, c='purple',label='Cluster1')\n\nplt.scatter(segment_DF[segment_DF.segment==1]['INCOME'],segment_DF[segment_DF.segment==1]['TOTAL SPENT'],s=50, c='blue',label='Cluster3')\n\nplt.scatter(segment_DF[segment_DF.segment==2]['INCOME'],segment_DF[segment_DF.segment==2]['TOTAL SPENT'],s=50, c='green',label='Cluster4')\n\nplt.scatter(segment_DF[segment_DF.segment==3]['INCOME'],segment_DF[segment_DF.segment==3]['TOTAL SPENT'],s=50, c='cyan',label='Cluster2')\n\nplt.scatter(Kmeans_model.cluster_centers_[:,0], Kmeans_model.cluster_centers_[:,1],s=200,marker='s', c='red', alpha=0.7, label='Centroids')\nplt.title('Customer segments using K-means (k=4)')\n\nplt.xlabel('Income')\n\nplt.ylabel('Total Spend')\n\nplt.legend()\n\nplt.show()\n"
        },
        {
            "cell_type": "code",
            "execution_count": 42,
            "metadata": {},
            "outputs": [
                {
                    "data": {
                        "text/html": "<div>\n<style scoped>\n    .dataframe tbody tr th:only-of-type {\n        vertical-align: middle;\n    }\n\n    .dataframe tbody tr th {\n        vertical-align: top;\n    }\n\n    .dataframe thead th {\n        text-align: right;\n    }\n</style>\n<table border=\"1\" class=\"dataframe\">\n  <thead>\n    <tr style=\"text-align: right;\">\n      <th></th>\n      <th>CUSTOMERID</th>\n      <th>GENDER</th>\n      <th>AGE</th>\n      <th>INCOME</th>\n      <th>EXPERIENCE SCORE</th>\n      <th>LOYALTY GROUP</th>\n      <th>ENROLLMENT DATE</th>\n      <th>HOUSEHOLD SIZE</th>\n      <th>MARITAL STATUS</th>\n      <th>APPAREL</th>\n      <th>ELECTRONICS</th>\n      <th>FOOD</th>\n      <th>HEALTH &amp; BEAUTY</th>\n      <th>TOTAL SPENT</th>\n      <th>segment</th>\n    </tr>\n  </thead>\n  <tbody>\n    <tr>\n      <th>0</th>\n      <td>10001</td>\n      <td>0</td>\n      <td>64</td>\n      <td>133498</td>\n      <td>5</td>\n      <td>enrolled</td>\n      <td>06-03-2013</td>\n      <td>4</td>\n      <td>Single</td>\n      <td>4022.430</td>\n      <td>1601.315</td>\n      <td>68.688</td>\n      <td>1134.337</td>\n      <td>6826.770</td>\n      <td>3</td>\n    </tr>\n    <tr>\n      <th>1</th>\n      <td>10002</td>\n      <td>0</td>\n      <td>42</td>\n      <td>94475</td>\n      <td>9</td>\n      <td>notenrolled</td>\n      <td>NaN</td>\n      <td>6</td>\n      <td>Married</td>\n      <td>2312.509</td>\n      <td>2473.163</td>\n      <td>276.779</td>\n      <td>0.000</td>\n      <td>5062.451</td>\n      <td>1</td>\n    </tr>\n    <tr>\n      <th>2</th>\n      <td>10003</td>\n      <td>0</td>\n      <td>40</td>\n      <td>88610</td>\n      <td>9</td>\n      <td>enrolled</td>\n      <td>02-09-2010</td>\n      <td>5</td>\n      <td>Married</td>\n      <td>2887.382</td>\n      <td>5414.418</td>\n      <td>260.640</td>\n      <td>0.000</td>\n      <td>8562.440</td>\n      <td>0</td>\n    </tr>\n    <tr>\n      <th>3</th>\n      <td>10004</td>\n      <td>0</td>\n      <td>38</td>\n      <td>84313</td>\n      <td>8</td>\n      <td>enrolled</td>\n      <td>06-04-2015</td>\n      <td>1</td>\n      <td>Single</td>\n      <td>3637.213</td>\n      <td>1840.211</td>\n      <td>45.270</td>\n      <td>0.000</td>\n      <td>5522.694</td>\n      <td>0</td>\n    </tr>\n    <tr>\n      <th>4</th>\n      <td>10005</td>\n      <td>0</td>\n      <td>30</td>\n      <td>51498</td>\n      <td>3</td>\n      <td>notenrolled</td>\n      <td>NaN</td>\n      <td>1</td>\n      <td>Single</td>\n      <td>213.512</td>\n      <td>0.000</td>\n      <td>0.000</td>\n      <td>0.000</td>\n      <td>213.512</td>\n      <td>2</td>\n    </tr>\n  </tbody>\n</table>\n</div>",
                        "text/plain": "   CUSTOMERID  GENDER  AGE  INCOME  EXPERIENCE SCORE LOYALTY GROUP  \\\n0       10001       0   64  133498                 5      enrolled   \n1       10002       0   42   94475                 9   notenrolled   \n2       10003       0   40   88610                 9      enrolled   \n3       10004       0   38   84313                 8      enrolled   \n4       10005       0   30   51498                 3   notenrolled   \n\n  ENROLLMENT DATE  HOUSEHOLD SIZE MARITAL STATUS   APPAREL  ELECTRONICS  \\\n0      06-03-2013               4         Single  4022.430     1601.315   \n1             NaN               6        Married  2312.509     2473.163   \n2      02-09-2010               5        Married  2887.382     5414.418   \n3      06-04-2015               1         Single  3637.213     1840.211   \n4             NaN               1         Single   213.512        0.000   \n\n      FOOD  HEALTH & BEAUTY  TOTAL SPENT  segment  \n0   68.688         1134.337     6826.770        3  \n1  276.779            0.000     5062.451        1  \n2  260.640            0.000     8562.440        0  \n3   45.270            0.000     5522.694        0  \n4    0.000            0.000      213.512        2  "
                    },
                    "execution_count": 42,
                    "metadata": {},
                    "output_type": "execute_result"
                }
            ],
            "source": "#Retailer X must know all about the different customer segments demographics. \n#So, you must discover the characteristics that are associated with each segment, \n#such as the age group, household size, and loyalty enrolment. To do this task, group by each customer segment and calculate group measures such as average age, percentage of loyalty enrolment, and median of house hold size.\n#Merge the clustering output with the customer all view by using the following code:\ncustomer_demographics=pd.concat([customer_all_view,cluster_output_pd],axis=1)\n#print the output with\ncustomer_demographics.head()"
        },
        {
            "cell_type": "code",
            "execution_count": 44,
            "metadata": {},
            "outputs": [
                {
                    "data": {
                        "text/html": "<div>\n<style scoped>\n    .dataframe tbody tr th:only-of-type {\n        vertical-align: middle;\n    }\n\n    .dataframe tbody tr th {\n        vertical-align: top;\n    }\n\n    .dataframe thead th {\n        text-align: right;\n    }\n</style>\n<table border=\"1\" class=\"dataframe\">\n  <thead>\n    <tr style=\"text-align: right;\">\n      <th></th>\n      <th>HOUSEHOLD SIZE</th>\n      <th>AGE</th>\n    </tr>\n    <tr>\n      <th>segment</th>\n      <th></th>\n      <th></th>\n    </tr>\n  </thead>\n  <tbody>\n    <tr>\n      <th>0</th>\n      <td>3</td>\n      <td>35.661972</td>\n    </tr>\n    <tr>\n      <th>1</th>\n      <td>3</td>\n      <td>47.416667</td>\n    </tr>\n    <tr>\n      <th>2</th>\n      <td>2</td>\n      <td>24.449275</td>\n    </tr>\n    <tr>\n      <th>3</th>\n      <td>2</td>\n      <td>73.420455</td>\n    </tr>\n  </tbody>\n</table>\n</div>",
                        "text/plain": "         HOUSEHOLD SIZE        AGE\nsegment                           \n0                     3  35.661972\n1                     3  47.416667\n2                     2  24.449275\n3                     2  73.420455"
                    },
                    "execution_count": 44,
                    "metadata": {},
                    "output_type": "execute_result"
                }
            ],
            "source": "#Using the group by and simple aggregate functions,the following code gives the median household size and the mean age per segment:\ncustomer_demographics.groupby('segment').agg({'HOUSEHOLD SIZE':'median','AGE':'mean'})\n#the instructions used the median household size but the mean can be used since there are no outliers in the household size"
        },
        {
            "cell_type": "code",
            "execution_count": 46,
            "metadata": {},
            "outputs": [
                {
                    "data": {
                        "text/html": "<div>\n<style scoped>\n    .dataframe tbody tr th:only-of-type {\n        vertical-align: middle;\n    }\n\n    .dataframe tbody tr th {\n        vertical-align: top;\n    }\n\n    .dataframe thead th {\n        text-align: right;\n    }\n</style>\n<table border=\"1\" class=\"dataframe\">\n  <thead>\n    <tr style=\"text-align: right;\">\n      <th></th>\n      <th>HOUSEHOLD SIZE</th>\n      <th>AGE</th>\n      <th>LOYALTY GROUP</th>\n    </tr>\n    <tr>\n      <th>segment</th>\n      <th></th>\n      <th></th>\n      <th></th>\n    </tr>\n  </thead>\n  <tbody>\n    <tr>\n      <th>0</th>\n      <td>3</td>\n      <td>35.661972</td>\n      <td>32.394366</td>\n    </tr>\n    <tr>\n      <th>1</th>\n      <td>3</td>\n      <td>47.416667</td>\n      <td>66.666667</td>\n    </tr>\n    <tr>\n      <th>2</th>\n      <td>2</td>\n      <td>24.449275</td>\n      <td>52.173913</td>\n    </tr>\n    <tr>\n      <th>3</th>\n      <td>2</td>\n      <td>73.420455</td>\n      <td>65.909091</td>\n    </tr>\n  </tbody>\n</table>\n</div>",
                        "text/plain": "         HOUSEHOLD SIZE        AGE  LOYALTY GROUP\nsegment                                          \n0                     3  35.661972      32.394366\n1                     3  47.416667      66.666667\n2                     2  24.449275      52.173913\n3                     2  73.420455      65.909091"
                    },
                    "execution_count": 46,
                    "metadata": {},
                    "output_type": "execute_result"
                }
            ],
            "source": "#With regards to loyalty enrolment, you must calculate the percentage of participation by using the following formula:\n#      percentage loyalty enrolment  per cluster = 100 * number enrolled in that cluster/total number of customers in that cluster\n#So, you create a function by the name \u201cpercent_loyalty\u201d by using the following code:\ndef percent_loyalty(series):\n    percent=100 * series.value_counts()['enrolled'] /series.count()\n    return percent\n#to include it in the customer demographics view created for each cluster\ncustomer_demographics.groupby('segment').agg({'HOUSEHOLD SIZE':'median','AGE':'mean','LOYALTY GROUP': percent_loyalty})"
        },
        {
            "cell_type": "code",
            "execution_count": null,
            "metadata": {},
            "outputs": [],
            "source": ""
        }
    ],
    "metadata": {
        "kernelspec": {
            "display_name": "Python 3.6",
            "language": "python",
            "name": "python3"
        },
        "language_info": {
            "codemirror_mode": {
                "name": "ipython",
                "version": 3
            },
            "file_extension": ".py",
            "mimetype": "text/x-python",
            "name": "python",
            "nbconvert_exporter": "python",
            "pygments_lexer": "ipython3",
            "version": "3.6.9"
        }
    },
    "nbformat": 4,
    "nbformat_minor": 1
}