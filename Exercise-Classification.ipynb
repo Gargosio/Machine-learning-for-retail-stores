{
    "cells": [
        {
            "metadata": {
                "collapsed": true
            },
            "cell_type": "markdown",
            "source": "# This notebook is for course four : Classification Analysis (Supervised Learning)"
        },
        {
            "metadata": {},
            "cell_type": "markdown",
            "source": "### Importing Data Files"
        },
        {
            "metadata": {},
            "cell_type": "code",
            "source": "#As part of the business objectives that you have set for Retailer X, \n#you must assist the retailer with understanding the factors that are \n#associated with the loyalty program participation to help them predict \n#in the future who is likely to participate or not. From this point, \n#Retailer X can direct the appropriate message to each customer effectively.\n",
            "execution_count": null,
            "outputs": []
        },
        {
            "metadata": {},
            "cell_type": "code",
            "source": "#Import Product DataSet here\nimport types\nimport pandas as pd\nfrom botocore.client import Config\nimport ibm_boto3\n\ndef __iter__(self): return 0\n\n# @hidden_cell\n# The following code accesses a file in your IBM Cloud Object Storage. It includes your credentials.\n# You might want to remove those credentials before you share the notebook.\nclient_4c73b4e9125d48cf93a58e32e4df6b8a = ibm_boto3.client(service_name='s3',\n    ibm_api_key_id='OrWgd56afrWso8TP28McZnZhIVT6iLoOUxmlRw_0RAgN',\n    ibm_auth_endpoint=\"https://iam.eu-gb.bluemix.net/oidc/token\",\n    config=Config(signature_version='oauth'),\n    endpoint_url='https://s3.eu-geo.objectstorage.service.networklayer.com')\n\nbody = client_4c73b4e9125d48cf93a58e32e4df6b8a.get_object(Bucket='datascienceproject-donotdelete-pr-knsi3l5zevhael',Key='Product Data Set - Student 2 of 3.csv')['Body']\n",
            "execution_count": 65,
            "outputs": [
                {
                    "output_type": "execute_result",
                    "execution_count": 65,
                    "data": {
                        "text/plain": "   PRODUCT CODE PRODUCT CATEGORY UNIT LIST PRICE\n0         30001  HEALTH & BEAUTY          $7.45 \n1         30002  HEALTH & BEAUTY          $5.35 \n2         30003  HEALTH & BEAUTY          $5.49 \n3         30004  HEALTH & BEAUTY          $6.46 \n4         30005  HEALTH & BEAUTY          $7.33 ",
                        "text/html": "<div>\n<style scoped>\n    .dataframe tbody tr th:only-of-type {\n        vertical-align: middle;\n    }\n\n    .dataframe tbody tr th {\n        vertical-align: top;\n    }\n\n    .dataframe thead th {\n        text-align: right;\n    }\n</style>\n<table border=\"1\" class=\"dataframe\">\n  <thead>\n    <tr style=\"text-align: right;\">\n      <th></th>\n      <th>PRODUCT CODE</th>\n      <th>PRODUCT CATEGORY</th>\n      <th>UNIT LIST PRICE</th>\n    </tr>\n  </thead>\n  <tbody>\n    <tr>\n      <th>0</th>\n      <td>30001</td>\n      <td>HEALTH &amp; BEAUTY</td>\n      <td>$7.45</td>\n    </tr>\n    <tr>\n      <th>1</th>\n      <td>30002</td>\n      <td>HEALTH &amp; BEAUTY</td>\n      <td>$5.35</td>\n    </tr>\n    <tr>\n      <th>2</th>\n      <td>30003</td>\n      <td>HEALTH &amp; BEAUTY</td>\n      <td>$5.49</td>\n    </tr>\n    <tr>\n      <th>3</th>\n      <td>30004</td>\n      <td>HEALTH &amp; BEAUTY</td>\n      <td>$6.46</td>\n    </tr>\n    <tr>\n      <th>4</th>\n      <td>30005</td>\n      <td>HEALTH &amp; BEAUTY</td>\n      <td>$7.33</td>\n    </tr>\n  </tbody>\n</table>\n</div>"
                    },
                    "metadata": {}
                }
            ]
        },
        {
            "metadata": {
                "scrolled": true
            },
            "cell_type": "code",
            "source": "#Import Transaction DataSet Here\nbody = client_4c73b4e9125d48cf93a58e32e4df6b8a.get_object(Bucket='datascienceproject-donotdelete-pr-knsi3l5zevhael',Key='Transaction Data Set - Student 3 of 3.csv')['Body']\n# add missing __iter__ method, so pandas accepts body as file-like object\nif not hasattr(body, \"__iter__\"): body.__iter__ = types.MethodType( __iter__, body )\n\ntransaction_data = pd.read_csv(body,sep='|')\ntransaction_data.head()\n",
            "execution_count": 10,
            "outputs": [
                {
                    "output_type": "execute_result",
                    "execution_count": 10,
                    "data": {
                        "text/plain": "   CUSTOMER NUM  PRODUCT NUM  QUANTITY PURCHASED  DISCOUNT TAKEN  \\\n0         10114        30011                   4             0.0   \n1         10217        30016                   3             0.0   \n2         10224        30013                   4             0.0   \n3         10103        30012                   3             0.2   \n4         10037        30010                   8             0.0   \n\n  TRANSACTION DATE  STOCKOUT  \n0         1/2/2015         0  \n1         1/2/2015         0  \n2         1/2/2015         0  \n3         1/2/2015         0  \n4         1/2/2015         0  ",
                        "text/html": "<div>\n<style scoped>\n    .dataframe tbody tr th:only-of-type {\n        vertical-align: middle;\n    }\n\n    .dataframe tbody tr th {\n        vertical-align: top;\n    }\n\n    .dataframe thead th {\n        text-align: right;\n    }\n</style>\n<table border=\"1\" class=\"dataframe\">\n  <thead>\n    <tr style=\"text-align: right;\">\n      <th></th>\n      <th>CUSTOMER NUM</th>\n      <th>PRODUCT NUM</th>\n      <th>QUANTITY PURCHASED</th>\n      <th>DISCOUNT TAKEN</th>\n      <th>TRANSACTION DATE</th>\n      <th>STOCKOUT</th>\n    </tr>\n  </thead>\n  <tbody>\n    <tr>\n      <th>0</th>\n      <td>10114</td>\n      <td>30011</td>\n      <td>4</td>\n      <td>0.0</td>\n      <td>1/2/2015</td>\n      <td>0</td>\n    </tr>\n    <tr>\n      <th>1</th>\n      <td>10217</td>\n      <td>30016</td>\n      <td>3</td>\n      <td>0.0</td>\n      <td>1/2/2015</td>\n      <td>0</td>\n    </tr>\n    <tr>\n      <th>2</th>\n      <td>10224</td>\n      <td>30013</td>\n      <td>4</td>\n      <td>0.0</td>\n      <td>1/2/2015</td>\n      <td>0</td>\n    </tr>\n    <tr>\n      <th>3</th>\n      <td>10103</td>\n      <td>30012</td>\n      <td>3</td>\n      <td>0.2</td>\n      <td>1/2/2015</td>\n      <td>0</td>\n    </tr>\n    <tr>\n      <th>4</th>\n      <td>10037</td>\n      <td>30010</td>\n      <td>8</td>\n      <td>0.0</td>\n      <td>1/2/2015</td>\n      <td>0</td>\n    </tr>\n  </tbody>\n</table>\n</div>"
                    },
                    "metadata": {}
                }
            ]
        },
        {
            "metadata": {},
            "cell_type": "code",
            "source": "#Import Customer Dataset Here\nbody = client_4c73b4e9125d48cf93a58e32e4df6b8a.get_object(Bucket='datascienceproject-donotdelete-pr-knsi3l5zevhael',Key='Customer Data Set - Student 1 of 3.csv')['Body']\n# add missing __iter__ method, so pandas accepts body as file-like object\nif not hasattr(body, \"__iter__\"): body.__iter__ = types.MethodType( __iter__, body )\n\ncustomer_data=pd.read_csv(body)\ncustomer_data.head()\n",
            "execution_count": 11,
            "outputs": [
                {
                    "output_type": "execute_result",
                    "execution_count": 11,
                    "data": {
                        "text/plain": "   CUSTOMERID  GENDER  AGE    INCOME  EXPERIENCE SCORE LOYALTY GROUP  \\\n0       10001       0   64  $133,498                 5      enrolled   \n1       10002       0   42   $94,475                 9   notenrolled   \n2       10003       0   40   $88,610                 9      enrolled   \n3       10004       0   38   $84,313                 8      enrolled   \n4       10005       0   30   $51,498                 3   notenrolled   \n\n  ENROLLMENT DATE  HOUSEHOLD SIZE MARITAL STATUS  \n0      06-03-2013               4         Single  \n1             NaN               6        Married  \n2      02-09-2010               5        Married  \n3      06-04-2015               1         Single  \n4             NaN               1         Single  ",
                        "text/html": "<div>\n<style scoped>\n    .dataframe tbody tr th:only-of-type {\n        vertical-align: middle;\n    }\n\n    .dataframe tbody tr th {\n        vertical-align: top;\n    }\n\n    .dataframe thead th {\n        text-align: right;\n    }\n</style>\n<table border=\"1\" class=\"dataframe\">\n  <thead>\n    <tr style=\"text-align: right;\">\n      <th></th>\n      <th>CUSTOMERID</th>\n      <th>GENDER</th>\n      <th>AGE</th>\n      <th>INCOME</th>\n      <th>EXPERIENCE SCORE</th>\n      <th>LOYALTY GROUP</th>\n      <th>ENROLLMENT DATE</th>\n      <th>HOUSEHOLD SIZE</th>\n      <th>MARITAL STATUS</th>\n    </tr>\n  </thead>\n  <tbody>\n    <tr>\n      <th>0</th>\n      <td>10001</td>\n      <td>0</td>\n      <td>64</td>\n      <td>$133,498</td>\n      <td>5</td>\n      <td>enrolled</td>\n      <td>06-03-2013</td>\n      <td>4</td>\n      <td>Single</td>\n    </tr>\n    <tr>\n      <th>1</th>\n      <td>10002</td>\n      <td>0</td>\n      <td>42</td>\n      <td>$94,475</td>\n      <td>9</td>\n      <td>notenrolled</td>\n      <td>NaN</td>\n      <td>6</td>\n      <td>Married</td>\n    </tr>\n    <tr>\n      <th>2</th>\n      <td>10003</td>\n      <td>0</td>\n      <td>40</td>\n      <td>$88,610</td>\n      <td>9</td>\n      <td>enrolled</td>\n      <td>02-09-2010</td>\n      <td>5</td>\n      <td>Married</td>\n    </tr>\n    <tr>\n      <th>3</th>\n      <td>10004</td>\n      <td>0</td>\n      <td>38</td>\n      <td>$84,313</td>\n      <td>8</td>\n      <td>enrolled</td>\n      <td>06-04-2015</td>\n      <td>1</td>\n      <td>Single</td>\n    </tr>\n    <tr>\n      <th>4</th>\n      <td>10005</td>\n      <td>0</td>\n      <td>30</td>\n      <td>$51,498</td>\n      <td>3</td>\n      <td>notenrolled</td>\n      <td>NaN</td>\n      <td>1</td>\n      <td>Single</td>\n    </tr>\n  </tbody>\n</table>\n</div>"
                    },
                    "metadata": {}
                }
            ]
        },
        {
            "metadata": {},
            "cell_type": "markdown",
            "source": "### Changing Data Types"
        },
        {
            "metadata": {},
            "cell_type": "code",
            "source": "customer_data['INCOME']=customer_data['INCOME'].map(lambda x : x.replace('$',''))",
            "execution_count": 12,
            "outputs": []
        },
        {
            "metadata": {},
            "cell_type": "code",
            "source": "customer_data['INCOME']=customer_data['INCOME'].map(lambda x : int(x.replace(',','')))",
            "execution_count": 13,
            "outputs": []
        },
        {
            "metadata": {},
            "cell_type": "markdown",
            "source": "### Creating Customer View"
        },
        {
            "metadata": {},
            "cell_type": "code",
            "source": "trans_products=transaction_data.merge(product_data,how='inner', left_on='PRODUCT NUM', right_on='PRODUCT CODE')",
            "execution_count": 15,
            "outputs": []
        },
        {
            "metadata": {},
            "cell_type": "code",
            "source": "trans_products['UNIT LIST PRICE']=trans_products['UNIT LIST PRICE'].map(lambda x : float(x.replace('$','')))",
            "execution_count": 16,
            "outputs": []
        },
        {
            "metadata": {},
            "cell_type": "code",
            "source": "trans_products['Total_Price']=trans_products['QUANTITY PURCHASED'] * trans_products['UNIT LIST PRICE'] * (1- trans_products['DISCOUNT TAKEN'])",
            "execution_count": 17,
            "outputs": []
        },
        {
            "metadata": {},
            "cell_type": "code",
            "source": "customer_prod_categ=trans_products.groupby(['CUSTOMER NUM','PRODUCT CATEGORY']).agg({'Total_Price':'sum'})",
            "execution_count": 18,
            "outputs": []
        },
        {
            "metadata": {},
            "cell_type": "code",
            "source": "customer_prod_categ=customer_prod_categ.reset_index()",
            "execution_count": 19,
            "outputs": []
        },
        {
            "metadata": {},
            "cell_type": "code",
            "source": "customer_pivot=customer_prod_categ.pivot(index='CUSTOMER NUM',columns='PRODUCT CATEGORY',values='Total_Price')",
            "execution_count": 20,
            "outputs": []
        },
        {
            "metadata": {},
            "cell_type": "code",
            "source": "trans_total_spend=trans_products.groupby('CUSTOMER NUM').agg({'Total_Price':'sum'}).\\\nrename(columns={'Total_Price':'TOTAL SPENT'})",
            "execution_count": 21,
            "outputs": []
        },
        {
            "metadata": {},
            "cell_type": "code",
            "source": "customer_KPIs=customer_pivot.merge(trans_total_spend,how='inner',left_index=True, right_index=True )",
            "execution_count": 22,
            "outputs": []
        },
        {
            "metadata": {},
            "cell_type": "code",
            "source": "customer_KPIs=customer_KPIs.fillna(0)\n",
            "execution_count": 23,
            "outputs": []
        },
        {
            "metadata": {},
            "cell_type": "code",
            "source": "customer_all_view=customer_data.merge(customer_KPIs,how='inner', left_on='CUSTOMERID', right_index=True)",
            "execution_count": 24,
            "outputs": []
        },
        {
            "metadata": {},
            "cell_type": "code",
            "source": "customer_all_view.head()",
            "execution_count": 25,
            "outputs": [
                {
                    "output_type": "execute_result",
                    "execution_count": 25,
                    "data": {
                        "text/plain": "   CUSTOMERID  GENDER  AGE  INCOME  EXPERIENCE SCORE LOYALTY GROUP  \\\n0       10001       0   64  133498                 5      enrolled   \n1       10002       0   42   94475                 9   notenrolled   \n2       10003       0   40   88610                 9      enrolled   \n3       10004       0   38   84313                 8      enrolled   \n4       10005       0   30   51498                 3   notenrolled   \n\n  ENROLLMENT DATE  HOUSEHOLD SIZE MARITAL STATUS   APPAREL  ELECTRONICS  \\\n0      06-03-2013               4         Single  4022.430     1601.315   \n1             NaN               6        Married  2312.509     2473.163   \n2      02-09-2010               5        Married  2887.382     5414.418   \n3      06-04-2015               1         Single  3637.213     1840.211   \n4             NaN               1         Single   213.512        0.000   \n\n      FOOD  HEALTH & BEAUTY  TOTAL SPENT  \n0   68.688         1134.337     6826.770  \n1  276.779            0.000     5062.451  \n2  260.640            0.000     8562.440  \n3   45.270            0.000     5522.694  \n4    0.000            0.000      213.512  ",
                        "text/html": "<div>\n<style scoped>\n    .dataframe tbody tr th:only-of-type {\n        vertical-align: middle;\n    }\n\n    .dataframe tbody tr th {\n        vertical-align: top;\n    }\n\n    .dataframe thead th {\n        text-align: right;\n    }\n</style>\n<table border=\"1\" class=\"dataframe\">\n  <thead>\n    <tr style=\"text-align: right;\">\n      <th></th>\n      <th>CUSTOMERID</th>\n      <th>GENDER</th>\n      <th>AGE</th>\n      <th>INCOME</th>\n      <th>EXPERIENCE SCORE</th>\n      <th>LOYALTY GROUP</th>\n      <th>ENROLLMENT DATE</th>\n      <th>HOUSEHOLD SIZE</th>\n      <th>MARITAL STATUS</th>\n      <th>APPAREL</th>\n      <th>ELECTRONICS</th>\n      <th>FOOD</th>\n      <th>HEALTH &amp; BEAUTY</th>\n      <th>TOTAL SPENT</th>\n    </tr>\n  </thead>\n  <tbody>\n    <tr>\n      <th>0</th>\n      <td>10001</td>\n      <td>0</td>\n      <td>64</td>\n      <td>133498</td>\n      <td>5</td>\n      <td>enrolled</td>\n      <td>06-03-2013</td>\n      <td>4</td>\n      <td>Single</td>\n      <td>4022.430</td>\n      <td>1601.315</td>\n      <td>68.688</td>\n      <td>1134.337</td>\n      <td>6826.770</td>\n    </tr>\n    <tr>\n      <th>1</th>\n      <td>10002</td>\n      <td>0</td>\n      <td>42</td>\n      <td>94475</td>\n      <td>9</td>\n      <td>notenrolled</td>\n      <td>NaN</td>\n      <td>6</td>\n      <td>Married</td>\n      <td>2312.509</td>\n      <td>2473.163</td>\n      <td>276.779</td>\n      <td>0.000</td>\n      <td>5062.451</td>\n    </tr>\n    <tr>\n      <th>2</th>\n      <td>10003</td>\n      <td>0</td>\n      <td>40</td>\n      <td>88610</td>\n      <td>9</td>\n      <td>enrolled</td>\n      <td>02-09-2010</td>\n      <td>5</td>\n      <td>Married</td>\n      <td>2887.382</td>\n      <td>5414.418</td>\n      <td>260.640</td>\n      <td>0.000</td>\n      <td>8562.440</td>\n    </tr>\n    <tr>\n      <th>3</th>\n      <td>10004</td>\n      <td>0</td>\n      <td>38</td>\n      <td>84313</td>\n      <td>8</td>\n      <td>enrolled</td>\n      <td>06-04-2015</td>\n      <td>1</td>\n      <td>Single</td>\n      <td>3637.213</td>\n      <td>1840.211</td>\n      <td>45.270</td>\n      <td>0.000</td>\n      <td>5522.694</td>\n    </tr>\n    <tr>\n      <th>4</th>\n      <td>10005</td>\n      <td>0</td>\n      <td>30</td>\n      <td>51498</td>\n      <td>3</td>\n      <td>notenrolled</td>\n      <td>NaN</td>\n      <td>1</td>\n      <td>Single</td>\n      <td>213.512</td>\n      <td>0.000</td>\n      <td>0.000</td>\n      <td>0.000</td>\n      <td>213.512</td>\n    </tr>\n  </tbody>\n</table>\n</div>"
                    },
                    "metadata": {}
                }
            ]
        },
        {
            "metadata": {},
            "cell_type": "markdown",
            "source": "# Classification \nThe exploratory data analysis that you conducted in Course 2, \u201cData Understanding and Preparation\u201d showed that the most important features regarding LOYALTY GROUP participation are EXPERIENCE SCORE, TOTAL SPENT, INCOME, and AGE.\n\nSo, you use these features to create some classification models. However, you try different models and varied combination of features and contrast their performance."
        },
        {
            "metadata": {},
            "cell_type": "code",
            "source": "#Begin Writing your code here",
            "execution_count": null,
            "outputs": []
        },
        {
            "metadata": {},
            "cell_type": "code",
            "source": "#Create a Pandas data frame containing the most relevant features and the target \n#variable by using the following code:\n\nDF_classification=customer_all_view[['INCOME','AGE','EXPERIENCE SCORE','TOTAL SPENT','LOYALTY GROUP']]\nDF_classification.head(5)\n\n#Because \u201cLoyalty Group\u201d is a categorical label, we perform classification",
            "execution_count": 26,
            "outputs": [
                {
                    "output_type": "execute_result",
                    "execution_count": 26,
                    "data": {
                        "text/plain": "   INCOME  AGE  EXPERIENCE SCORE  TOTAL SPENT LOYALTY GROUP\n0  133498   64                 5     6826.770      enrolled\n1   94475   42                 9     5062.451   notenrolled\n2   88610   40                 9     8562.440      enrolled\n3   84313   38                 8     5522.694      enrolled\n4   51498   30                 3      213.512   notenrolled",
                        "text/html": "<div>\n<style scoped>\n    .dataframe tbody tr th:only-of-type {\n        vertical-align: middle;\n    }\n\n    .dataframe tbody tr th {\n        vertical-align: top;\n    }\n\n    .dataframe thead th {\n        text-align: right;\n    }\n</style>\n<table border=\"1\" class=\"dataframe\">\n  <thead>\n    <tr style=\"text-align: right;\">\n      <th></th>\n      <th>INCOME</th>\n      <th>AGE</th>\n      <th>EXPERIENCE SCORE</th>\n      <th>TOTAL SPENT</th>\n      <th>LOYALTY GROUP</th>\n    </tr>\n  </thead>\n  <tbody>\n    <tr>\n      <th>0</th>\n      <td>133498</td>\n      <td>64</td>\n      <td>5</td>\n      <td>6826.770</td>\n      <td>enrolled</td>\n    </tr>\n    <tr>\n      <th>1</th>\n      <td>94475</td>\n      <td>42</td>\n      <td>9</td>\n      <td>5062.451</td>\n      <td>notenrolled</td>\n    </tr>\n    <tr>\n      <th>2</th>\n      <td>88610</td>\n      <td>40</td>\n      <td>9</td>\n      <td>8562.440</td>\n      <td>enrolled</td>\n    </tr>\n    <tr>\n      <th>3</th>\n      <td>84313</td>\n      <td>38</td>\n      <td>8</td>\n      <td>5522.694</td>\n      <td>enrolled</td>\n    </tr>\n    <tr>\n      <th>4</th>\n      <td>51498</td>\n      <td>30</td>\n      <td>3</td>\n      <td>213.512</td>\n      <td>notenrolled</td>\n    </tr>\n  </tbody>\n</table>\n</div>"
                    },
                    "metadata": {}
                }
            ]
        },
        {
            "metadata": {},
            "cell_type": "code",
            "source": "#Separate the target from the numerical input features (predictors) and \n#create a Pandas data frame to hold only the target labels by using the following code:\n\ntarget_feature = pd.DataFrame(DF_classification['LOYALTY GROUP'])\nprint(type(target_feature))\ntarget_feature.head(5)",
            "execution_count": 27,
            "outputs": [
                {
                    "output_type": "stream",
                    "text": "<class 'pandas.core.frame.DataFrame'>\n",
                    "name": "stdout"
                },
                {
                    "output_type": "execute_result",
                    "execution_count": 27,
                    "data": {
                        "text/plain": "  LOYALTY GROUP\n0      enrolled\n1   notenrolled\n2      enrolled\n3      enrolled\n4   notenrolled",
                        "text/html": "<div>\n<style scoped>\n    .dataframe tbody tr th:only-of-type {\n        vertical-align: middle;\n    }\n\n    .dataframe tbody tr th {\n        vertical-align: top;\n    }\n\n    .dataframe thead th {\n        text-align: right;\n    }\n</style>\n<table border=\"1\" class=\"dataframe\">\n  <thead>\n    <tr style=\"text-align: right;\">\n      <th></th>\n      <th>LOYALTY GROUP</th>\n    </tr>\n  </thead>\n  <tbody>\n    <tr>\n      <th>0</th>\n      <td>enrolled</td>\n    </tr>\n    <tr>\n      <th>1</th>\n      <td>notenrolled</td>\n    </tr>\n    <tr>\n      <th>2</th>\n      <td>enrolled</td>\n    </tr>\n    <tr>\n      <th>3</th>\n      <td>enrolled</td>\n    </tr>\n    <tr>\n      <th>4</th>\n      <td>notenrolled</td>\n    </tr>\n  </tbody>\n</table>\n</div>"
                    },
                    "metadata": {}
                }
            ]
        },
        {
            "metadata": {},
            "cell_type": "code",
            "source": "#Drop the categorical target from the \u201cDF_classification\u201d Pandas data frame \n#because you are scaling the columns of this data frame and you will later \n#merge the target with the scaled Pandas data frame. Use the following code:\n\nDF_classification = DF_classification.drop(['LOYALTY GROUP'],axis=1)\nDF_classification.head(5)\n#The Pandas data frame is ready for scaling.",
            "execution_count": 28,
            "outputs": [
                {
                    "output_type": "execute_result",
                    "execution_count": 28,
                    "data": {
                        "text/plain": "   INCOME  AGE  EXPERIENCE SCORE  TOTAL SPENT\n0  133498   64                 5     6826.770\n1   94475   42                 9     5062.451\n2   88610   40                 9     8562.440\n3   84313   38                 8     5522.694\n4   51498   30                 3      213.512",
                        "text/html": "<div>\n<style scoped>\n    .dataframe tbody tr th:only-of-type {\n        vertical-align: middle;\n    }\n\n    .dataframe tbody tr th {\n        vertical-align: top;\n    }\n\n    .dataframe thead th {\n        text-align: right;\n    }\n</style>\n<table border=\"1\" class=\"dataframe\">\n  <thead>\n    <tr style=\"text-align: right;\">\n      <th></th>\n      <th>INCOME</th>\n      <th>AGE</th>\n      <th>EXPERIENCE SCORE</th>\n      <th>TOTAL SPENT</th>\n    </tr>\n  </thead>\n  <tbody>\n    <tr>\n      <th>0</th>\n      <td>133498</td>\n      <td>64</td>\n      <td>5</td>\n      <td>6826.770</td>\n    </tr>\n    <tr>\n      <th>1</th>\n      <td>94475</td>\n      <td>42</td>\n      <td>9</td>\n      <td>5062.451</td>\n    </tr>\n    <tr>\n      <th>2</th>\n      <td>88610</td>\n      <td>40</td>\n      <td>9</td>\n      <td>8562.440</td>\n    </tr>\n    <tr>\n      <th>3</th>\n      <td>84313</td>\n      <td>38</td>\n      <td>8</td>\n      <td>5522.694</td>\n    </tr>\n    <tr>\n      <th>4</th>\n      <td>51498</td>\n      <td>30</td>\n      <td>3</td>\n      <td>213.512</td>\n    </tr>\n  </tbody>\n</table>\n</div>"
                    },
                    "metadata": {}
                }
            ]
        },
        {
            "metadata": {},
            "cell_type": "code",
            "source": "#Scaling adjustment. You are using the Min-Max scaling approach, \n#which is shown in the following equation:Xsc = X - Xmin/Xmax - Xmin\n#Import the pre-processing library by using the following code:\nfrom sklearn import preprocessing",
            "execution_count": 29,
            "outputs": []
        },
        {
            "metadata": {},
            "cell_type": "code",
            "source": "#Save the column names of the input Pandas data frame in a \n#list before scaling by using the following code:\nDF_classification_column_names = DF_classification.columns.values\n#You save the columns names because when you apply the preprocessing command to \n#a Pandas data frame, the output is a NumPy array and the column names are lost.\n#To reconstruct the same data frame after scaling, you need the column names.",
            "execution_count": 30,
            "outputs": []
        },
        {
            "metadata": {},
            "cell_type": "code",
            "source": "#Add the following line to adjust the scales of the input features by using the following code:\n\nDF_classification=preprocessing.minmax_scale(DF_classification)",
            "execution_count": 31,
            "outputs": [
                {
                    "output_type": "stream",
                    "text": "/opt/conda/envs/Python36/lib/python3.6/site-packages/ipykernel/__main__.py:3: DataConversionWarning: Data with input dtype int64, float64 were all converted to float64.\n  app.launch_new_instance()\n",
                    "name": "stderr"
                }
            ]
        },
        {
            "metadata": {},
            "cell_type": "code",
            "source": "#Reconstruct the input Pandas data frame from the NumPy array by using the following code:\n\nDF_classification=pd.DataFrame(DF_classification, columns=DF_classification_column_names)\nDF_classification.head(5)\n#The output shows that the four features were scaled to the 0 - 1 range.",
            "execution_count": 32,
            "outputs": [
                {
                    "output_type": "execute_result",
                    "execution_count": 32,
                    "data": {
                        "text/plain": "     INCOME       AGE  EXPERIENCE SCORE  TOTAL SPENT\n0  0.872818  0.638889          0.444444     0.446532\n1  0.572046  0.333333          0.888889     0.330790\n2  0.526842  0.305556          0.888889     0.560394\n3  0.493722  0.277778          0.777778     0.360983\n4  0.240799  0.166667          0.222222     0.012694",
                        "text/html": "<div>\n<style scoped>\n    .dataframe tbody tr th:only-of-type {\n        vertical-align: middle;\n    }\n\n    .dataframe tbody tr th {\n        vertical-align: top;\n    }\n\n    .dataframe thead th {\n        text-align: right;\n    }\n</style>\n<table border=\"1\" class=\"dataframe\">\n  <thead>\n    <tr style=\"text-align: right;\">\n      <th></th>\n      <th>INCOME</th>\n      <th>AGE</th>\n      <th>EXPERIENCE SCORE</th>\n      <th>TOTAL SPENT</th>\n    </tr>\n  </thead>\n  <tbody>\n    <tr>\n      <th>0</th>\n      <td>0.872818</td>\n      <td>0.638889</td>\n      <td>0.444444</td>\n      <td>0.446532</td>\n    </tr>\n    <tr>\n      <th>1</th>\n      <td>0.572046</td>\n      <td>0.333333</td>\n      <td>0.888889</td>\n      <td>0.330790</td>\n    </tr>\n    <tr>\n      <th>2</th>\n      <td>0.526842</td>\n      <td>0.305556</td>\n      <td>0.888889</td>\n      <td>0.560394</td>\n    </tr>\n    <tr>\n      <th>3</th>\n      <td>0.493722</td>\n      <td>0.277778</td>\n      <td>0.777778</td>\n      <td>0.360983</td>\n    </tr>\n    <tr>\n      <th>4</th>\n      <td>0.240799</td>\n      <td>0.166667</td>\n      <td>0.222222</td>\n      <td>0.012694</td>\n    </tr>\n  </tbody>\n</table>\n</div>"
                    },
                    "metadata": {}
                }
            ]
        },
        {
            "metadata": {},
            "cell_type": "code",
            "source": "#Concatenate the DF_classification with the target_feature data frame by using the following code:\n\nDF_classification = pd.concat([DF_classification,target_feature], axis=1)\nDF_classification.head(5)",
            "execution_count": 33,
            "outputs": [
                {
                    "output_type": "execute_result",
                    "execution_count": 33,
                    "data": {
                        "text/plain": "     INCOME       AGE  EXPERIENCE SCORE  TOTAL SPENT LOYALTY GROUP\n0  0.872818  0.638889          0.444444     0.446532      enrolled\n1  0.572046  0.333333          0.888889     0.330790   notenrolled\n2  0.526842  0.305556          0.888889     0.560394      enrolled\n3  0.493722  0.277778          0.777778     0.360983      enrolled\n4  0.240799  0.166667          0.222222     0.012694   notenrolled",
                        "text/html": "<div>\n<style scoped>\n    .dataframe tbody tr th:only-of-type {\n        vertical-align: middle;\n    }\n\n    .dataframe tbody tr th {\n        vertical-align: top;\n    }\n\n    .dataframe thead th {\n        text-align: right;\n    }\n</style>\n<table border=\"1\" class=\"dataframe\">\n  <thead>\n    <tr style=\"text-align: right;\">\n      <th></th>\n      <th>INCOME</th>\n      <th>AGE</th>\n      <th>EXPERIENCE SCORE</th>\n      <th>TOTAL SPENT</th>\n      <th>LOYALTY GROUP</th>\n    </tr>\n  </thead>\n  <tbody>\n    <tr>\n      <th>0</th>\n      <td>0.872818</td>\n      <td>0.638889</td>\n      <td>0.444444</td>\n      <td>0.446532</td>\n      <td>enrolled</td>\n    </tr>\n    <tr>\n      <th>1</th>\n      <td>0.572046</td>\n      <td>0.333333</td>\n      <td>0.888889</td>\n      <td>0.330790</td>\n      <td>notenrolled</td>\n    </tr>\n    <tr>\n      <th>2</th>\n      <td>0.526842</td>\n      <td>0.305556</td>\n      <td>0.888889</td>\n      <td>0.560394</td>\n      <td>enrolled</td>\n    </tr>\n    <tr>\n      <th>3</th>\n      <td>0.493722</td>\n      <td>0.277778</td>\n      <td>0.777778</td>\n      <td>0.360983</td>\n      <td>enrolled</td>\n    </tr>\n    <tr>\n      <th>4</th>\n      <td>0.240799</td>\n      <td>0.166667</td>\n      <td>0.222222</td>\n      <td>0.012694</td>\n      <td>notenrolled</td>\n    </tr>\n  </tbody>\n</table>\n</div>"
                    },
                    "metadata": {}
                }
            ]
        },
        {
            "metadata": {},
            "cell_type": "code",
            "source": "#Partitioning input data into training and testing splits\n#Import the train_test_split library by using the following code:\nfrom sklearn.model_selection import train_test_split",
            "execution_count": 34,
            "outputs": []
        },
        {
            "metadata": {},
            "cell_type": "code",
            "source": "#Run the following code to generate the training and testing data sets:\nX_train,X_test,Y_train,Y_test = \\\ntrain_test_split(DF_classification[['EXPERIENCE SCORE','TOTAL SPENT','INCOME']],DF_classification['LOYALTY GROUP'], test_size=0.2,random_state=42)\n\n#This code divides the input feature data frame by (80% - 20%) into two mutually exclusive Pandas data \n#frames (X_train(80%) for training and X_test(20%) for testing). It also separates the target feature \n#(class label) of both data sets into two separate data frames (Y_train for training and Y_test is for testing)\n#The random_state parameter is a pseudo-random number generator state that is used for random sampling when \n#splitting the input data into training and testing splits. If this number is set, then each time you run this \n#code, you get the same training and testing data splits. If the number is not specified, then you get different \n#data sets each time. In this example, we chose to set it so that when the code is run, you get the same results \n#as those in the document.\n",
            "execution_count": 35,
            "outputs": []
        },
        {
            "metadata": {},
            "cell_type": "code",
            "source": "#age is removed from the training dataset since it has a higher correlation to income\n#Verify the relationship between both variables by using the following code:\nimport matplotlib.pyplot as plt \nplt.scatter(customer_all_view['AGE'],customer_all_view['INCOME'])\nplt.xlabel(\"Age\")\nplt.ylabel(\"Income\")\nplt.show()",
            "execution_count": 42,
            "outputs": [
                {
                    "output_type": "display_data",
                    "data": {
                        "text/plain": "<Figure size 432x288 with 1 Axes>",
                        "image/png": "[encoded data removed]"
                    },
                    "metadata": {
                        "needs_background": "light"
                    }
                }
            ]
        },
        {
            "metadata": {},
            "cell_type": "code",
            "source": "#Training a K-Nearest Neighbor Classifier\n#Complete the following steps:\nfrom sklearn.neighbors import KNeighborsClassifier\n#Create an instance of the KNN classifier by using the following code. As an initial setting, you use the eight \n#nearest neighbors to classify the output. Later, you drive the optimal k by using cross-validation.\nclf_kNN = KNeighborsClassifier(n_neighbors=8)",
            "execution_count": 43,
            "outputs": []
        },
        {
            "metadata": {},
            "cell_type": "code",
            "source": "#Observe the algorithm parameters by issuing the classifier instance name by using the following code:\n\nclf_kNN",
            "execution_count": 44,
            "outputs": [
                {
                    "output_type": "execute_result",
                    "execution_count": 44,
                    "data": {
                        "text/plain": "KNeighborsClassifier(algorithm='auto', leaf_size=30, metric='minkowski',\n           metric_params=None, n_jobs=None, n_neighbors=8, p=2,\n           weights='uniform')"
                    },
                    "metadata": {}
                }
            ]
        },
        {
            "metadata": {},
            "cell_type": "code",
            "source": "#The n_neighbors = 8 value is what we specified. The rest of the parameters are assigned the default values and are explained as follows:\n#Algorithm: This is the method or the algorithm that is used to calculate the nearest neighbors. It is set to auto, which means that the KNN attempts to decide the most appropriate algorithm based on the values that are passed to the fit method. The fit method is explained soon.\n#Leaf size: This parameter specifies the number of points that are used to calculate the nearest neighbor points. It can significantly impact the speed of the calculations and the memory that is required.\n#Metric: The distance metric to use for the tree. The default metric is minkowski, and with p=2 is equivalent to the standard Euclidean metric.\n#Weights: The weight function that is used in prediction. Uniform weights mean that all points in each neighborhood are weighted equally.",
            "execution_count": 45,
            "outputs": []
        },
        {
            "metadata": {},
            "cell_type": "code",
            "source": "#Train the KNN classifier by using the fit function by using the following code:\n\nclf_kNN.fit(X_train, Y_train)\n\n#The function fit(X, y) trains the model by using X as the training data and y as the target values. It accepts input data as Pandas data frames.\n\ntype(X_train)",
            "execution_count": 46,
            "outputs": [
                {
                    "output_type": "execute_result",
                    "execution_count": 46,
                    "data": {
                        "text/plain": "pandas.core.frame.DataFrame"
                    },
                    "metadata": {}
                }
            ]
        },
        {
            "metadata": {},
            "cell_type": "code",
            "source": "#To test the model, first use the model to predict the labels of the testing feature set by using the following code:\n\npredicted = clf_kNN.predict(X_test)\n\n#This line returns the predicted labels of the test data in a numpy array. Run a type command to verify.\n\ntype(predicted)",
            "execution_count": 47,
            "outputs": [
                {
                    "output_type": "execute_result",
                    "execution_count": 47,
                    "data": {
                        "text/plain": "numpy.ndarray"
                    },
                    "metadata": {}
                }
            ]
        },
        {
            "metadata": {},
            "cell_type": "code",
            "source": "#Compare the predicted values to the actual values of the testing target labels (Y_test) by performing the following steps:\n#Use scikit, which is a metrics library that evaluates the performance of the classifier\n#Import the library by using the following code:\nfrom sklearn import metrics",
            "execution_count": 48,
            "outputs": []
        },
        {
            "metadata": {},
            "cell_type": "code",
            "source": "#Testing\n#Compare the predicted values to the actual values of the testing target labels (Y_test) by performing the following steps:\n\nacc = metrics.accuracy_score(Y_test,predicted)\nprint ('accuracy = '+str(acc*100)+'%')\nprint (metrics.classification_report(Y_test,predicted))",
            "execution_count": 49,
            "outputs": [
                {
                    "output_type": "stream",
                    "text": "accuracy = 79.0%\n              precision    recall  f1-score   support\n\n    enrolled       0.73      0.92      0.82        51\n notenrolled       0.89      0.65      0.75        49\n\n   micro avg       0.79      0.79      0.79       100\n   macro avg       0.81      0.79      0.79       100\nweighted avg       0.81      0.79      0.79       100\n\n",
                    "name": "stdout"
                }
            ]
        },
        {
            "metadata": {},
            "cell_type": "code",
            "source": "#The output shows the following information:\n#An overall accuracy of 79% means that the model was able to predict correctly the labels of 79% of the input testing data set.\n#Each class label (enrolled or not enrolled) is treated separately as follows: (Hint: Remember the confusion matrix.)\n#Enrolled:\n#It has a precision of 73%, which means that the whenever the model predicts or outputs \u201cenrolled\u201d, you can trust it by 73%.\n#It has a recall of 89%, which means that whenever the true label of an unknown input sample is \u201cenrolled\u201d, the model can predict it correctly by 89%.\n#It has an f1-score of 82%, which is a weighted sum of the precision and recall.\n#Not enrolled:\n#It has a precision of 89%, which means that the whenever the model predicts \u201cnot enrolled\u201d, you can trust it by 89%.\n#It has a recall of 65%, which means that whenever the true label of an unknown input sample is \u201cnot enrolled\u201d, the model can predict it correctly by 65%.\n#It has an f1-score of 75%, which is a weighted sum of the precision and recall.\n#Support is the actual number of class labels.",
            "execution_count": 50,
            "outputs": []
        },
        {
            "metadata": {},
            "cell_type": "code",
            "source": "#Training using the decision tree classifier\nfrom sklearn.tree import DecisionTreeClassifier\n",
            "execution_count": 55,
            "outputs": []
        },
        {
            "metadata": {},
            "cell_type": "code",
            "source": "#Create an instance of the algorithm with criterion = entropy by using the following code:\n#We set the criterion = \u201centropy\u201d. Entropy is the algorithm that the decision trees use to split nodes. \n#For more information about the other model parameters, clf = DecisionTreeClassifier(random_state=0)\n#see http://scikit-learn.org/stable/modules/generated/sklearn.tree.DecisionTreeClassifier.html.\n\nclf_Tree=DecisionTreeClassifier(criterion='entropy',random_state=0)",
            "execution_count": 57,
            "outputs": []
        },
        {
            "metadata": {},
            "cell_type": "code",
            "source": "#Observe the algorithm parameters by issuing the classifier instance name by using the following code:\nclf_Tree",
            "execution_count": 58,
            "outputs": [
                {
                    "output_type": "execute_result",
                    "execution_count": 58,
                    "data": {
                        "text/plain": "DecisionTreeClassifier(class_weight=None, criterion='entropy', max_depth=None,\n            max_features=None, max_leaf_nodes=None,\n            min_impurity_decrease=0.0, min_impurity_split=None,\n            min_samples_leaf=1, min_samples_split=2,\n            min_weight_fraction_leaf=0.0, presort=False, random_state=0,\n            splitter='best')"
                    },
                    "metadata": {}
                }
            ]
        },
        {
            "metadata": {},
            "cell_type": "code",
            "source": "#Like what you did with the KNN model, train and test the tree model by using the following code:\n\nclf_Tree.fit(X_train, Y_train)\npredicted = clf_Tree .predict(X_test)\nacc = metrics.accuracy_score(Y_test,predicted)\nprint ('accuracy = '+str(acc*100)+'%')\nprint (metrics.classification_report(Y_test,predicted))",
            "execution_count": 59,
            "outputs": [
                {
                    "output_type": "stream",
                    "text": "accuracy = 75.0%\n              precision    recall  f1-score   support\n\n    enrolled       0.74      0.78      0.76        51\n notenrolled       0.76      0.71      0.74        49\n\n   micro avg       0.75      0.75      0.75       100\n   macro avg       0.75      0.75      0.75       100\nweighted avg       0.75      0.75      0.75       100\n\n",
                    "name": "stdout"
                }
            ]
        },
        {
            "metadata": {},
            "cell_type": "code",
            "source": "#Decision trees have an advantage over KNN in that they provide numerical \n#values for the feature importance. You can use this feature to provide Retailer X \n#with the most important factors that affect loyalty program participation among customers. \n#Use the feature_importances_ method to get the feature importance by using the following code:\n\nclf_Tree.feature_importances_",
            "execution_count": 60,
            "outputs": [
                {
                    "output_type": "execute_result",
                    "execution_count": 60,
                    "data": {
                        "text/plain": "array([0.26796289, 0.39545388, 0.33658323])"
                    },
                    "metadata": {}
                }
            ]
        },
        {
            "metadata": {},
            "cell_type": "code",
            "source": "#We fed the features to the model in the following order by using the following code(in line 35):\n\n#DF_classification[['EXPERIENCE SCORE','TOTAL SPENT','INCOME']]\n\n#So, the order of importance of the features is as follows:\n\n#1.TOTAL SPENT\n#2.INCOME\n#3.EXPERIENCE SCORE",
            "execution_count": 61,
            "outputs": []
        },
        {
            "metadata": {},
            "cell_type": "markdown",
            "source": "# #K-fold cross-validation to test which classifier performed best"
        },
        {
            "metadata": {},
            "cell_type": "code",
            "source": "from sklearn.model_selection import KFold",
            "execution_count": 62,
            "outputs": []
        },
        {
            "metadata": {},
            "cell_type": "code",
            "source": "#Define a new generic training and testing function with accuracy as the performance metric by using the following code:\n\ndef Training_Testing_Accuracy_Only(model,train_data,train_labels,test_data,test_labels):\n    model.fit(train_data,train_labels)\n    predicted = model.predict(test_data)\n    acc = metrics.accuracy_score(test_labels,predicted)\n    print ('accuracy = '+str(acc*100)+'%')\n    return(acc)\n#the code performs the following functions:\n#It has five arguments as inputs: The classifier model (model), the training data (train_data), the training labels (train_labels), testing data (test_data), and testing labels (test_labels).\n#It trains the model by using the function \u201c.fit()\u201d.\n#It predicts the class labels of the testing feature set and saves them to a list called \u201cpredicted\u201d.\n#It compares the predicted output with the actual labels (\u201ctest_labels\u201d) and calculates the accuracy (\u201cacc\u201d) by using a function that is called \u201cmetrics.accuracy_score()\u201d. Then, it prints the output and returns the accuracy.",
            "execution_count": 63,
            "outputs": []
        },
        {
            "metadata": {},
            "cell_type": "code",
            "source": "#Set the number of folds by using the following code:\n\nkf = KFold(n_splits=10)\n\n#We set the folds to 10. Each iteration has 450 training samples and 50 testing samples.",
            "execution_count": 66,
            "outputs": []
        },
        {
            "metadata": {},
            "cell_type": "code",
            "source": "#Training and testing the decision tree model by using 10-fold cross-validation\n#Declare an empty list to store the accuracy in each iteration and declare a new decision Tree classifier by using the following code:\n\nclf_Tree=DecisionTreeClassifier(criterion='entropy')\naccuracy_list=[]",
            "execution_count": 67,
            "outputs": []
        },
        {
            "metadata": {},
            "cell_type": "code",
            "source": "#Train and test the decision tree model for each fold and get the overall accuracy by using the following code:\n#brekdown of the code is in the ibm module\nfor train_index, test_index in kf.split(DF_classification[['EXPERIENCE SCORE','TOTAL SPENT','INCOME']]):\n    X=DF_classification[['EXPERIENCE SCORE','TOTAL SPENT','INCOME']]\n    Y=DF_classification['LOYALTY GROUP']\n    X_train,X_test=X.iloc[train_index], X.iloc[test_index]\n    Y_train,Y_test=Y.iloc[train_index], Y.iloc[test_index]   \n    accuracy=Training_Testing_Accuracy_Only(clf_Tree,X_train,Y_train,X_test,Y_test)\n    accuracy_list.append(accuracy) \nprint(\"overall_accuracy is %\",100 * sum(accuracy_list)/len(accuracy_list))",
            "execution_count": 68,
            "outputs": [
                {
                    "output_type": "stream",
                    "text": "accuracy = 76.0%\naccuracy = 72.0%\naccuracy = 72.0%\naccuracy = 66.0%\naccuracy = 70.0%\naccuracy = 84.0%\naccuracy = 70.0%\naccuracy = 74.0%\naccuracy = 72.0%\naccuracy = 76.0%\noverall_accuracy is % 73.2\n",
                    "name": "stdout"
                }
            ]
        },
        {
            "metadata": {},
            "cell_type": "code",
            "source": "#Training and testing the K-Nearest Neighbor classifier with a 10-fold cross-validation \n#and finding the optimum K_neighbors\n#Declare an empty list to store the accuracy for each iteration of K_neighbors by using the following code:\naccuracy_list_for_each_K_neighbours=[]",
            "execution_count": 69,
            "outputs": []
        },
        {
            "metadata": {},
            "cell_type": "code",
            "source": "#Train and test the KNN classifier by using two loops: An outer loop to iterate over the values of K neighbors 1 - 14 and an inner loop for training and testing the model by using cross-validation by using the following code:\n#breakdown of the code is in the ibm module\nfor k_neighbours in range(1,15):\n    clf_NN = KNeighborsClassifier(n_neighbors=k_neighbours)\n    accuracy_list_k_fold = []\n    for train_index, test_index in kf.split(DF_classification[['EXPERIENCE SCORE','TOTAL SPENT','INCOME']]):\n        X=DF_classification[['EXPERIENCE SCORE','TOTAL SPENT','INCOME']]\n        Y=DF_classification['LOYALTY GROUP']\n        X_train,X_test=X.iloc[train_index], X.iloc[test_index]\n        Y_train,Y_test=Y.iloc[train_index], Y.iloc[test_index]    \n        accuracy=Training_Testing_Accuracy_Only(clf_NN,X_train,Y_train,X_test,Y_test)\n        accuracy_list_k_fold.append(accuracy)\n    accuracy_list_for_each_K_neighbours.append(100 * sum(accuracy_list_k_fold)/len(accuracy_list_k_fold))\n    print(\"Overall Accuracy for K_neighbours=\",k_neighbours,\"is\",accuracy_list_for_each_K_neighbours[k_neighbours-1])",
            "execution_count": 70,
            "outputs": [
                {
                    "output_type": "stream",
                    "text": "accuracy = 64.0%\naccuracy = 64.0%\naccuracy = 66.0%\naccuracy = 64.0%\naccuracy = 82.0%\naccuracy = 68.0%\naccuracy = 70.0%\naccuracy = 64.0%\naccuracy = 76.0%\naccuracy = 68.0%\nOverall Accuracy for K_neighbours= 1 is 68.6\naccuracy = 74.0%\naccuracy = 60.0%\naccuracy = 72.0%\naccuracy = 74.0%\naccuracy = 74.0%\naccuracy = 78.0%\naccuracy = 70.0%\naccuracy = 72.0%\naccuracy = 82.0%\naccuracy = 76.0%\nOverall Accuracy for K_neighbours= 2 is 73.2\naccuracy = 72.0%\naccuracy = 64.0%\naccuracy = 68.0%\naccuracy = 70.0%\naccuracy = 78.0%\naccuracy = 78.0%\naccuracy = 70.0%\naccuracy = 70.0%\naccuracy = 76.0%\naccuracy = 76.0%\nOverall Accuracy for K_neighbours= 3 is 72.20000000000002\naccuracy = 82.0%\naccuracy = 66.0%\naccuracy = 72.0%\naccuracy = 74.0%\naccuracy = 80.0%\naccuracy = 82.0%\naccuracy = 70.0%\naccuracy = 76.0%\naccuracy = 78.0%\naccuracy = 78.0%\nOverall Accuracy for K_neighbours= 4 is 75.80000000000001\naccuracy = 78.0%\naccuracy = 64.0%\naccuracy = 80.0%\naccuracy = 74.0%\naccuracy = 80.0%\naccuracy = 76.0%\naccuracy = 74.0%\naccuracy = 72.0%\naccuracy = 72.0%\naccuracy = 80.0%\nOverall Accuracy for K_neighbours= 5 is 74.99999999999999\naccuracy = 76.0%\naccuracy = 66.0%\naccuracy = 74.0%\naccuracy = 72.0%\naccuracy = 80.0%\naccuracy = 76.0%\naccuracy = 74.0%\naccuracy = 74.0%\naccuracy = 78.0%\naccuracy = 84.0%\nOverall Accuracy for K_neighbours= 6 is 75.4\naccuracy = 68.0%\naccuracy = 66.0%\naccuracy = 82.0%\naccuracy = 72.0%\naccuracy = 84.0%\naccuracy = 76.0%\naccuracy = 76.0%\naccuracy = 74.0%\naccuracy = 76.0%\naccuracy = 82.0%\nOverall Accuracy for K_neighbours= 7 is 75.6\naccuracy = 74.0%\naccuracy = 70.0%\naccuracy = 84.0%\naccuracy = 68.0%\naccuracy = 80.0%\naccuracy = 76.0%\naccuracy = 76.0%\naccuracy = 84.0%\naccuracy = 76.0%\naccuracy = 86.0%\nOverall Accuracy for K_neighbours= 8 is 77.39999999999999\naccuracy = 72.0%\naccuracy = 68.0%\naccuracy = 84.0%\naccuracy = 68.0%\naccuracy = 84.0%\naccuracy = 76.0%\naccuracy = 76.0%\naccuracy = 80.0%\naccuracy = 76.0%\naccuracy = 86.0%\nOverall Accuracy for K_neighbours= 9 is 76.99999999999999\naccuracy = 76.0%\naccuracy = 70.0%\naccuracy = 82.0%\naccuracy = 68.0%\naccuracy = 82.0%\naccuracy = 80.0%\naccuracy = 78.0%\naccuracy = 78.0%\naccuracy = 76.0%\naccuracy = 86.0%\nOverall Accuracy for K_neighbours= 10 is 77.60000000000001\naccuracy = 74.0%\naccuracy = 70.0%\naccuracy = 84.0%\naccuracy = 68.0%\naccuracy = 82.0%\naccuracy = 76.0%\naccuracy = 78.0%\naccuracy = 80.0%\naccuracy = 76.0%\naccuracy = 82.0%\nOverall Accuracy for K_neighbours= 11 is 77.0\naccuracy = 76.0%\naccuracy = 70.0%\naccuracy = 78.0%\naccuracy = 68.0%\naccuracy = 80.0%\naccuracy = 78.0%\naccuracy = 80.0%\naccuracy = 80.0%\naccuracy = 76.0%\naccuracy = 84.0%\nOverall Accuracy for K_neighbours= 12 is 77.0\naccuracy = 76.0%\naccuracy = 72.0%\naccuracy = 82.0%\naccuracy = 70.0%\naccuracy = 82.0%\naccuracy = 78.0%\naccuracy = 78.0%\naccuracy = 80.0%\naccuracy = 74.0%\naccuracy = 82.0%\nOverall Accuracy for K_neighbours= 13 is 77.4\naccuracy = 76.0%\naccuracy = 68.0%\naccuracy = 80.0%\naccuracy = 68.0%\naccuracy = 80.0%\naccuracy = 78.0%\naccuracy = 72.0%\naccuracy = 84.0%\naccuracy = 74.0%\naccuracy = 82.0%\nOverall Accuracy for K_neighbours= 14 is 76.20000000000002\n",
                    "name": "stdout"
                }
            ]
        },
        {
            "metadata": {},
            "cell_type": "code",
            "source": "#You can also identify the optimum K from plotting the accuracy list by completing the following steps:\nfrom matplotlib import pyplot as plt\n\n#Plot the result by using the following code:\n\nplt.plot(range(1,15),accuracy_list_for_each_K_neighbours)\nplt.legend(['Accuracy per K neighbours'], loc='upper left')\nplt.xlabel(\"Number of neighbors\")\nplt.ylabel(\"10 k-Fold Accuracy\")\nplt.show()",
            "execution_count": 71,
            "outputs": [
                {
                    "output_type": "display_data",
                    "data": {
                        "text/plain": "<Figure size 432x288 with 1 Axes>",
                        "image/png": "[encoded data removed]"
                    },
                    "metadata": {
                        "needs_background": "light"
                    }
                }
            ]
        },
        {
            "metadata": {},
            "cell_type": "code",
            "source": "",
            "execution_count": null,
            "outputs": []
        }
    ],
    "metadata": {
        "kernelspec": {
            "name": "python3",
            "display_name": "Python 3.6",
            "language": "python"
        },
        "language_info": {
            "name": "python",
            "version": "3.6.9",
            "mimetype": "text/x-python",
            "codemirror_mode": {
                "name": "ipython",
                "version": 3
            },
            "pygments_lexer": "ipython3",
            "nbconvert_exporter": "python",
            "file_extension": ".py"
        }
    },
    "nbformat": 4,
    "nbformat_minor": 1
}