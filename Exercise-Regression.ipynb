{
    "cells": [
        {
            "cell_type": "markdown",
            "metadata": {
                "collapsed": true
            },
            "source": "# This notebook is for course Five : Regression (Supervised Learning)"
        },
        {
            "cell_type": "markdown",
            "metadata": {},
            "source": "### Importing Data Files"
        },
        {
            "cell_type": "code",
            "execution_count": null,
            "metadata": {},
            "outputs": [],
            "source": "#Import Product DataSet here\nimport types\nimport pandas as pd\nfrom botocore.client import Config\nimport ibm_boto3\nproduct_data = pd.read_csv(body,sep='|')\nproduct_data.head()"
        },
        {
            "cell_type": "code",
            "execution_count": 1,
            "metadata": {},
            "outputs": [
                {
                    "data": {
                        "text/html": "<div>\n<style scoped>\n    .dataframe tbody tr th:only-of-type {\n        vertical-align: middle;\n    }\n\n    .dataframe tbody tr th {\n        vertical-align: top;\n    }\n\n    .dataframe thead th {\n        text-align: right;\n    }\n</style>\n<table border=\"1\" class=\"dataframe\">\n  <thead>\n    <tr style=\"text-align: right;\">\n      <th></th>\n      <th>PRODUCT CODE</th>\n      <th>PRODUCT CATEGORY</th>\n      <th>UNIT LIST PRICE</th>\n    </tr>\n  </thead>\n  <tbody>\n    <tr>\n      <th>0</th>\n      <td>30001</td>\n      <td>HEALTH &amp; BEAUTY</td>\n      <td>$7.45</td>\n    </tr>\n    <tr>\n      <th>1</th>\n      <td>30002</td>\n      <td>HEALTH &amp; BEAUTY</td>\n      <td>$5.35</td>\n    </tr>\n    <tr>\n      <th>2</th>\n      <td>30003</td>\n      <td>HEALTH &amp; BEAUTY</td>\n      <td>$5.49</td>\n    </tr>\n    <tr>\n      <th>3</th>\n      <td>30004</td>\n      <td>HEALTH &amp; BEAUTY</td>\n      <td>$6.46</td>\n    </tr>\n    <tr>\n      <th>4</th>\n      <td>30005</td>\n      <td>HEALTH &amp; BEAUTY</td>\n      <td>$7.33</td>\n    </tr>\n  </tbody>\n</table>\n</div>",
                        "text/plain": "   PRODUCT CODE PRODUCT CATEGORY UNIT LIST PRICE\n0         30001  HEALTH & BEAUTY          $7.45 \n1         30002  HEALTH & BEAUTY          $5.35 \n2         30003  HEALTH & BEAUTY          $5.49 \n3         30004  HEALTH & BEAUTY          $6.46 \n4         30005  HEALTH & BEAUTY          $7.33 "
                    },
                    "execution_count": 1,
                    "metadata": {},
                    "output_type": "execute_result"
                }
            ],
            "source": "# The code was removed by Watson Studio for sharing."
        },
        {
            "cell_type": "code",
            "execution_count": 2,
            "metadata": {
                "scrolled": true
            },
            "outputs": [
                {
                    "data": {
                        "text/html": "<div>\n<style scoped>\n    .dataframe tbody tr th:only-of-type {\n        vertical-align: middle;\n    }\n\n    .dataframe tbody tr th {\n        vertical-align: top;\n    }\n\n    .dataframe thead th {\n        text-align: right;\n    }\n</style>\n<table border=\"1\" class=\"dataframe\">\n  <thead>\n    <tr style=\"text-align: right;\">\n      <th></th>\n      <th>CUSTOMER NUM</th>\n      <th>PRODUCT NUM</th>\n      <th>QUANTITY PURCHASED</th>\n      <th>DISCOUNT TAKEN</th>\n      <th>TRANSACTION DATE</th>\n      <th>STOCKOUT</th>\n    </tr>\n  </thead>\n  <tbody>\n    <tr>\n      <th>0</th>\n      <td>10114</td>\n      <td>30011</td>\n      <td>4</td>\n      <td>0.0</td>\n      <td>1/2/2015</td>\n      <td>0</td>\n    </tr>\n    <tr>\n      <th>1</th>\n      <td>10217</td>\n      <td>30016</td>\n      <td>3</td>\n      <td>0.0</td>\n      <td>1/2/2015</td>\n      <td>0</td>\n    </tr>\n    <tr>\n      <th>2</th>\n      <td>10224</td>\n      <td>30013</td>\n      <td>4</td>\n      <td>0.0</td>\n      <td>1/2/2015</td>\n      <td>0</td>\n    </tr>\n    <tr>\n      <th>3</th>\n      <td>10103</td>\n      <td>30012</td>\n      <td>3</td>\n      <td>0.2</td>\n      <td>1/2/2015</td>\n      <td>0</td>\n    </tr>\n    <tr>\n      <th>4</th>\n      <td>10037</td>\n      <td>30010</td>\n      <td>8</td>\n      <td>0.0</td>\n      <td>1/2/2015</td>\n      <td>0</td>\n    </tr>\n  </tbody>\n</table>\n</div>",
                        "text/plain": "   CUSTOMER NUM  PRODUCT NUM  QUANTITY PURCHASED  DISCOUNT TAKEN  \\\n0         10114        30011                   4             0.0   \n1         10217        30016                   3             0.0   \n2         10224        30013                   4             0.0   \n3         10103        30012                   3             0.2   \n4         10037        30010                   8             0.0   \n\n  TRANSACTION DATE  STOCKOUT  \n0         1/2/2015         0  \n1         1/2/2015         0  \n2         1/2/2015         0  \n3         1/2/2015         0  \n4         1/2/2015         0  "
                    },
                    "execution_count": 2,
                    "metadata": {},
                    "output_type": "execute_result"
                }
            ],
            "source": "#Import Transaction DataSet Here\nbody = client_4c73b4e9125d48cf93a58e32e4df6b8a.get_object(Bucket='datascienceproject-donotdelete-pr-knsi3l5zevhael',Key='Transaction Data Set - Student 3 of 3.csv')['Body']\n# add missing __iter__ method, so pandas accepts body as file-like object\nif not hasattr(body, \"__iter__\"): body.__iter__ = types.MethodType( __iter__, body )\n\ntransaction_data = pd.read_csv(body,sep='|')\ntransaction_data.head()"
        },
        {
            "cell_type": "code",
            "execution_count": 3,
            "metadata": {},
            "outputs": [
                {
                    "data": {
                        "text/html": "<div>\n<style scoped>\n    .dataframe tbody tr th:only-of-type {\n        vertical-align: middle;\n    }\n\n    .dataframe tbody tr th {\n        vertical-align: top;\n    }\n\n    .dataframe thead th {\n        text-align: right;\n    }\n</style>\n<table border=\"1\" class=\"dataframe\">\n  <thead>\n    <tr style=\"text-align: right;\">\n      <th></th>\n      <th>CUSTOMERID</th>\n      <th>GENDER</th>\n      <th>AGE</th>\n      <th>INCOME</th>\n      <th>EXPERIENCE SCORE</th>\n      <th>LOYALTY GROUP</th>\n      <th>ENROLLMENT DATE</th>\n      <th>HOUSEHOLD SIZE</th>\n      <th>MARITAL STATUS</th>\n    </tr>\n  </thead>\n  <tbody>\n    <tr>\n      <th>0</th>\n      <td>10001</td>\n      <td>0</td>\n      <td>64</td>\n      <td>$133,498</td>\n      <td>5</td>\n      <td>enrolled</td>\n      <td>06-03-2013</td>\n      <td>4</td>\n      <td>Single</td>\n    </tr>\n    <tr>\n      <th>1</th>\n      <td>10002</td>\n      <td>0</td>\n      <td>42</td>\n      <td>$94,475</td>\n      <td>9</td>\n      <td>notenrolled</td>\n      <td>NaN</td>\n      <td>6</td>\n      <td>Married</td>\n    </tr>\n    <tr>\n      <th>2</th>\n      <td>10003</td>\n      <td>0</td>\n      <td>40</td>\n      <td>$88,610</td>\n      <td>9</td>\n      <td>enrolled</td>\n      <td>02-09-2010</td>\n      <td>5</td>\n      <td>Married</td>\n    </tr>\n    <tr>\n      <th>3</th>\n      <td>10004</td>\n      <td>0</td>\n      <td>38</td>\n      <td>$84,313</td>\n      <td>8</td>\n      <td>enrolled</td>\n      <td>06-04-2015</td>\n      <td>1</td>\n      <td>Single</td>\n    </tr>\n    <tr>\n      <th>4</th>\n      <td>10005</td>\n      <td>0</td>\n      <td>30</td>\n      <td>$51,498</td>\n      <td>3</td>\n      <td>notenrolled</td>\n      <td>NaN</td>\n      <td>1</td>\n      <td>Single</td>\n    </tr>\n  </tbody>\n</table>\n</div>",
                        "text/plain": "   CUSTOMERID  GENDER  AGE    INCOME  EXPERIENCE SCORE LOYALTY GROUP  \\\n0       10001       0   64  $133,498                 5      enrolled   \n1       10002       0   42   $94,475                 9   notenrolled   \n2       10003       0   40   $88,610                 9      enrolled   \n3       10004       0   38   $84,313                 8      enrolled   \n4       10005       0   30   $51,498                 3   notenrolled   \n\n  ENROLLMENT DATE  HOUSEHOLD SIZE MARITAL STATUS  \n0      06-03-2013               4         Single  \n1             NaN               6        Married  \n2      02-09-2010               5        Married  \n3      06-04-2015               1         Single  \n4             NaN               1         Single  "
                    },
                    "execution_count": 3,
                    "metadata": {},
                    "output_type": "execute_result"
                }
            ],
            "source": "#Import Customer Dataset Here\nbody = client_4c73b4e9125d48cf93a58e32e4df6b8a.get_object(Bucket='datascienceproject-donotdelete-pr-knsi3l5zevhael',Key='Customer Data Set - Student 1 of 3.csv')['Body']\n# add missing __iter__ method, so pandas accepts body as file-like object\nif not hasattr(body, \"__iter__\"): body.__iter__ = types.MethodType( __iter__, body )\n\ncustomer_data=pd.read_csv(body)\ncustomer_data.head()\n"
        },
        {
            "cell_type": "markdown",
            "metadata": {},
            "source": "### Changing Data Types"
        },
        {
            "cell_type": "code",
            "execution_count": 4,
            "metadata": {},
            "outputs": [],
            "source": "customer_data['INCOME']=customer_data['INCOME'].map(lambda x : x.replace('$',''))"
        },
        {
            "cell_type": "code",
            "execution_count": 5,
            "metadata": {},
            "outputs": [],
            "source": "customer_data['INCOME']=customer_data['INCOME'].map(lambda x : int(x.replace(',','')))"
        },
        {
            "cell_type": "markdown",
            "metadata": {},
            "source": "### Creating Customer View"
        },
        {
            "cell_type": "code",
            "execution_count": 13,
            "metadata": {},
            "outputs": [],
            "source": "trans_products=transaction_data.merge(product_data,how='inner', left_on='PRODUCT NUM', right_on='PRODUCT CODE')"
        },
        {
            "cell_type": "code",
            "execution_count": 14,
            "metadata": {},
            "outputs": [
                {
                    "data": {
                        "text/html": "<div>\n<style scoped>\n    .dataframe tbody tr th:only-of-type {\n        vertical-align: middle;\n    }\n\n    .dataframe tbody tr th {\n        vertical-align: top;\n    }\n\n    .dataframe thead th {\n        text-align: right;\n    }\n</style>\n<table border=\"1\" class=\"dataframe\">\n  <thead>\n    <tr style=\"text-align: right;\">\n      <th></th>\n      <th>CUSTOMER NUM</th>\n      <th>PRODUCT NUM</th>\n      <th>QUANTITY PURCHASED</th>\n      <th>DISCOUNT TAKEN</th>\n      <th>TRANSACTION DATE</th>\n      <th>STOCKOUT</th>\n      <th>PRODUCT CODE</th>\n      <th>PRODUCT CATEGORY</th>\n      <th>UNIT LIST PRICE</th>\n    </tr>\n  </thead>\n  <tbody>\n    <tr>\n      <th>0</th>\n      <td>10114</td>\n      <td>30011</td>\n      <td>4</td>\n      <td>0.0</td>\n      <td>1/2/2015</td>\n      <td>0</td>\n      <td>30011</td>\n      <td>APPAREL</td>\n      <td>$25.46</td>\n    </tr>\n    <tr>\n      <th>1</th>\n      <td>10086</td>\n      <td>30011</td>\n      <td>6</td>\n      <td>0.0</td>\n      <td>1/2/2015</td>\n      <td>0</td>\n      <td>30011</td>\n      <td>APPAREL</td>\n      <td>$25.46</td>\n    </tr>\n    <tr>\n      <th>2</th>\n      <td>10174</td>\n      <td>30011</td>\n      <td>10</td>\n      <td>0.0</td>\n      <td>1/2/2015</td>\n      <td>0</td>\n      <td>30011</td>\n      <td>APPAREL</td>\n      <td>$25.46</td>\n    </tr>\n    <tr>\n      <th>3</th>\n      <td>10401</td>\n      <td>30011</td>\n      <td>12</td>\n      <td>0.0</td>\n      <td>1/2/2015</td>\n      <td>0</td>\n      <td>30011</td>\n      <td>APPAREL</td>\n      <td>$25.46</td>\n    </tr>\n    <tr>\n      <th>4</th>\n      <td>10216</td>\n      <td>30011</td>\n      <td>12</td>\n      <td>0.1</td>\n      <td>1/2/2015</td>\n      <td>0</td>\n      <td>30011</td>\n      <td>APPAREL</td>\n      <td>$25.46</td>\n    </tr>\n  </tbody>\n</table>\n</div>",
                        "text/plain": "   CUSTOMER NUM  PRODUCT NUM  QUANTITY PURCHASED  DISCOUNT TAKEN  \\\n0         10114        30011                   4             0.0   \n1         10086        30011                   6             0.0   \n2         10174        30011                  10             0.0   \n3         10401        30011                  12             0.0   \n4         10216        30011                  12             0.1   \n\n  TRANSACTION DATE  STOCKOUT  PRODUCT CODE PRODUCT CATEGORY UNIT LIST PRICE  \n0         1/2/2015         0         30011          APPAREL         $25.46   \n1         1/2/2015         0         30011          APPAREL         $25.46   \n2         1/2/2015         0         30011          APPAREL         $25.46   \n3         1/2/2015         0         30011          APPAREL         $25.46   \n4         1/2/2015         0         30011          APPAREL         $25.46   "
                    },
                    "execution_count": 14,
                    "metadata": {},
                    "output_type": "execute_result"
                }
            ],
            "source": "trans_products.head()"
        },
        {
            "cell_type": "code",
            "execution_count": 15,
            "metadata": {},
            "outputs": [],
            "source": "trans_products['UNIT LIST PRICE']=trans_products['UNIT LIST PRICE'].map(lambda x : float(x.replace('$','')))"
        },
        {
            "cell_type": "code",
            "execution_count": 16,
            "metadata": {},
            "outputs": [
                {
                    "data": {
                        "text/html": "<div>\n<style scoped>\n    .dataframe tbody tr th:only-of-type {\n        vertical-align: middle;\n    }\n\n    .dataframe tbody tr th {\n        vertical-align: top;\n    }\n\n    .dataframe thead th {\n        text-align: right;\n    }\n</style>\n<table border=\"1\" class=\"dataframe\">\n  <thead>\n    <tr style=\"text-align: right;\">\n      <th></th>\n      <th>CUSTOMER NUM</th>\n      <th>PRODUCT NUM</th>\n      <th>QUANTITY PURCHASED</th>\n      <th>DISCOUNT TAKEN</th>\n      <th>TRANSACTION DATE</th>\n      <th>STOCKOUT</th>\n      <th>PRODUCT CODE</th>\n      <th>PRODUCT CATEGORY</th>\n      <th>UNIT LIST PRICE</th>\n    </tr>\n  </thead>\n  <tbody>\n    <tr>\n      <th>0</th>\n      <td>10114</td>\n      <td>30011</td>\n      <td>4</td>\n      <td>0.0</td>\n      <td>1/2/2015</td>\n      <td>0</td>\n      <td>30011</td>\n      <td>APPAREL</td>\n      <td>25.46</td>\n    </tr>\n    <tr>\n      <th>1</th>\n      <td>10086</td>\n      <td>30011</td>\n      <td>6</td>\n      <td>0.0</td>\n      <td>1/2/2015</td>\n      <td>0</td>\n      <td>30011</td>\n      <td>APPAREL</td>\n      <td>25.46</td>\n    </tr>\n    <tr>\n      <th>2</th>\n      <td>10174</td>\n      <td>30011</td>\n      <td>10</td>\n      <td>0.0</td>\n      <td>1/2/2015</td>\n      <td>0</td>\n      <td>30011</td>\n      <td>APPAREL</td>\n      <td>25.46</td>\n    </tr>\n    <tr>\n      <th>3</th>\n      <td>10401</td>\n      <td>30011</td>\n      <td>12</td>\n      <td>0.0</td>\n      <td>1/2/2015</td>\n      <td>0</td>\n      <td>30011</td>\n      <td>APPAREL</td>\n      <td>25.46</td>\n    </tr>\n    <tr>\n      <th>4</th>\n      <td>10216</td>\n      <td>30011</td>\n      <td>12</td>\n      <td>0.1</td>\n      <td>1/2/2015</td>\n      <td>0</td>\n      <td>30011</td>\n      <td>APPAREL</td>\n      <td>25.46</td>\n    </tr>\n  </tbody>\n</table>\n</div>",
                        "text/plain": "   CUSTOMER NUM  PRODUCT NUM  QUANTITY PURCHASED  DISCOUNT TAKEN  \\\n0         10114        30011                   4             0.0   \n1         10086        30011                   6             0.0   \n2         10174        30011                  10             0.0   \n3         10401        30011                  12             0.0   \n4         10216        30011                  12             0.1   \n\n  TRANSACTION DATE  STOCKOUT  PRODUCT CODE PRODUCT CATEGORY  UNIT LIST PRICE  \n0         1/2/2015         0         30011          APPAREL            25.46  \n1         1/2/2015         0         30011          APPAREL            25.46  \n2         1/2/2015         0         30011          APPAREL            25.46  \n3         1/2/2015         0         30011          APPAREL            25.46  \n4         1/2/2015         0         30011          APPAREL            25.46  "
                    },
                    "execution_count": 16,
                    "metadata": {},
                    "output_type": "execute_result"
                }
            ],
            "source": "trans_products.head()"
        },
        {
            "cell_type": "code",
            "execution_count": 17,
            "metadata": {},
            "outputs": [],
            "source": "trans_products['Total_Price']=trans_products['QUANTITY PURCHASED'] * trans_products['UNIT LIST PRICE'] * (1- trans_products['DISCOUNT TAKEN'])"
        },
        {
            "cell_type": "code",
            "execution_count": 18,
            "metadata": {},
            "outputs": [
                {
                    "data": {
                        "text/html": "<div>\n<style scoped>\n    .dataframe tbody tr th:only-of-type {\n        vertical-align: middle;\n    }\n\n    .dataframe tbody tr th {\n        vertical-align: top;\n    }\n\n    .dataframe thead th {\n        text-align: right;\n    }\n</style>\n<table border=\"1\" class=\"dataframe\">\n  <thead>\n    <tr style=\"text-align: right;\">\n      <th></th>\n      <th>CUSTOMER NUM</th>\n      <th>PRODUCT NUM</th>\n      <th>QUANTITY PURCHASED</th>\n      <th>DISCOUNT TAKEN</th>\n      <th>TRANSACTION DATE</th>\n      <th>STOCKOUT</th>\n      <th>PRODUCT CODE</th>\n      <th>PRODUCT CATEGORY</th>\n      <th>UNIT LIST PRICE</th>\n      <th>Total_Price</th>\n    </tr>\n  </thead>\n  <tbody>\n    <tr>\n      <th>0</th>\n      <td>10114</td>\n      <td>30011</td>\n      <td>4</td>\n      <td>0.0</td>\n      <td>1/2/2015</td>\n      <td>0</td>\n      <td>30011</td>\n      <td>APPAREL</td>\n      <td>25.46</td>\n      <td>101.840</td>\n    </tr>\n    <tr>\n      <th>1</th>\n      <td>10086</td>\n      <td>30011</td>\n      <td>6</td>\n      <td>0.0</td>\n      <td>1/2/2015</td>\n      <td>0</td>\n      <td>30011</td>\n      <td>APPAREL</td>\n      <td>25.46</td>\n      <td>152.760</td>\n    </tr>\n    <tr>\n      <th>2</th>\n      <td>10174</td>\n      <td>30011</td>\n      <td>10</td>\n      <td>0.0</td>\n      <td>1/2/2015</td>\n      <td>0</td>\n      <td>30011</td>\n      <td>APPAREL</td>\n      <td>25.46</td>\n      <td>254.600</td>\n    </tr>\n    <tr>\n      <th>3</th>\n      <td>10401</td>\n      <td>30011</td>\n      <td>12</td>\n      <td>0.0</td>\n      <td>1/2/2015</td>\n      <td>0</td>\n      <td>30011</td>\n      <td>APPAREL</td>\n      <td>25.46</td>\n      <td>305.520</td>\n    </tr>\n    <tr>\n      <th>4</th>\n      <td>10216</td>\n      <td>30011</td>\n      <td>12</td>\n      <td>0.1</td>\n      <td>1/2/2015</td>\n      <td>0</td>\n      <td>30011</td>\n      <td>APPAREL</td>\n      <td>25.46</td>\n      <td>274.968</td>\n    </tr>\n  </tbody>\n</table>\n</div>",
                        "text/plain": "   CUSTOMER NUM  PRODUCT NUM  QUANTITY PURCHASED  DISCOUNT TAKEN  \\\n0         10114        30011                   4             0.0   \n1         10086        30011                   6             0.0   \n2         10174        30011                  10             0.0   \n3         10401        30011                  12             0.0   \n4         10216        30011                  12             0.1   \n\n  TRANSACTION DATE  STOCKOUT  PRODUCT CODE PRODUCT CATEGORY  UNIT LIST PRICE  \\\n0         1/2/2015         0         30011          APPAREL            25.46   \n1         1/2/2015         0         30011          APPAREL            25.46   \n2         1/2/2015         0         30011          APPAREL            25.46   \n3         1/2/2015         0         30011          APPAREL            25.46   \n4         1/2/2015         0         30011          APPAREL            25.46   \n\n   Total_Price  \n0      101.840  \n1      152.760  \n2      254.600  \n3      305.520  \n4      274.968  "
                    },
                    "execution_count": 18,
                    "metadata": {},
                    "output_type": "execute_result"
                }
            ],
            "source": "trans_products.head()"
        },
        {
            "cell_type": "code",
            "execution_count": 19,
            "metadata": {},
            "outputs": [],
            "source": "customer_prod_categ=trans_products.groupby(['CUSTOMER NUM','PRODUCT CATEGORY']).agg({'Total_Price':'sum'})"
        },
        {
            "cell_type": "code",
            "execution_count": 20,
            "metadata": {},
            "outputs": [
                {
                    "data": {
                        "text/html": "<div>\n<style scoped>\n    .dataframe tbody tr th:only-of-type {\n        vertical-align: middle;\n    }\n\n    .dataframe tbody tr th {\n        vertical-align: top;\n    }\n\n    .dataframe thead th {\n        text-align: right;\n    }\n</style>\n<table border=\"1\" class=\"dataframe\">\n  <thead>\n    <tr style=\"text-align: right;\">\n      <th></th>\n      <th></th>\n      <th>Total_Price</th>\n    </tr>\n    <tr>\n      <th>CUSTOMER NUM</th>\n      <th>PRODUCT CATEGORY</th>\n      <th></th>\n    </tr>\n  </thead>\n  <tbody>\n    <tr>\n      <th rowspan=\"4\" valign=\"top\">10001</th>\n      <th>APPAREL</th>\n      <td>4022.430</td>\n    </tr>\n    <tr>\n      <th>ELECTRONICS</th>\n      <td>1601.315</td>\n    </tr>\n    <tr>\n      <th>FOOD</th>\n      <td>68.688</td>\n    </tr>\n    <tr>\n      <th>HEALTH &amp; BEAUTY</th>\n      <td>1134.337</td>\n    </tr>\n    <tr>\n      <th>10002</th>\n      <th>APPAREL</th>\n      <td>2312.509</td>\n    </tr>\n  </tbody>\n</table>\n</div>",
                        "text/plain": "                               Total_Price\nCUSTOMER NUM PRODUCT CATEGORY             \n10001        APPAREL              4022.430\n             ELECTRONICS          1601.315\n             FOOD                   68.688\n             HEALTH & BEAUTY      1134.337\n10002        APPAREL              2312.509"
                    },
                    "execution_count": 20,
                    "metadata": {},
                    "output_type": "execute_result"
                }
            ],
            "source": "customer_prod_categ.head()"
        },
        {
            "cell_type": "code",
            "execution_count": 21,
            "metadata": {},
            "outputs": [],
            "source": "customer_prod_categ=customer_prod_categ.reset_index()"
        },
        {
            "cell_type": "code",
            "execution_count": 23,
            "metadata": {},
            "outputs": [
                {
                    "data": {
                        "text/html": "<div>\n<style scoped>\n    .dataframe tbody tr th:only-of-type {\n        vertical-align: middle;\n    }\n\n    .dataframe tbody tr th {\n        vertical-align: top;\n    }\n\n    .dataframe thead th {\n        text-align: right;\n    }\n</style>\n<table border=\"1\" class=\"dataframe\">\n  <thead>\n    <tr style=\"text-align: right;\">\n      <th></th>\n      <th>CUSTOMER NUM</th>\n      <th>PRODUCT CATEGORY</th>\n      <th>Total_Price</th>\n    </tr>\n  </thead>\n  <tbody>\n    <tr>\n      <th>0</th>\n      <td>10001</td>\n      <td>APPAREL</td>\n      <td>4022.430</td>\n    </tr>\n    <tr>\n      <th>1</th>\n      <td>10001</td>\n      <td>ELECTRONICS</td>\n      <td>1601.315</td>\n    </tr>\n    <tr>\n      <th>2</th>\n      <td>10001</td>\n      <td>FOOD</td>\n      <td>68.688</td>\n    </tr>\n    <tr>\n      <th>3</th>\n      <td>10001</td>\n      <td>HEALTH &amp; BEAUTY</td>\n      <td>1134.337</td>\n    </tr>\n    <tr>\n      <th>4</th>\n      <td>10002</td>\n      <td>APPAREL</td>\n      <td>2312.509</td>\n    </tr>\n  </tbody>\n</table>\n</div>",
                        "text/plain": "   CUSTOMER NUM PRODUCT CATEGORY  Total_Price\n0         10001          APPAREL     4022.430\n1         10001      ELECTRONICS     1601.315\n2         10001             FOOD       68.688\n3         10001  HEALTH & BEAUTY     1134.337\n4         10002          APPAREL     2312.509"
                    },
                    "execution_count": 23,
                    "metadata": {},
                    "output_type": "execute_result"
                }
            ],
            "source": "customer_prod_categ.head()"
        },
        {
            "cell_type": "code",
            "execution_count": 24,
            "metadata": {},
            "outputs": [],
            "source": "customer_pivot=customer_prod_categ.pivot(index='CUSTOMER NUM',columns='PRODUCT CATEGORY',values='Total_Price')"
        },
        {
            "cell_type": "code",
            "execution_count": 25,
            "metadata": {},
            "outputs": [
                {
                    "data": {
                        "text/html": "<div>\n<style scoped>\n    .dataframe tbody tr th:only-of-type {\n        vertical-align: middle;\n    }\n\n    .dataframe tbody tr th {\n        vertical-align: top;\n    }\n\n    .dataframe thead th {\n        text-align: right;\n    }\n</style>\n<table border=\"1\" class=\"dataframe\">\n  <thead>\n    <tr style=\"text-align: right;\">\n      <th>PRODUCT CATEGORY</th>\n      <th>APPAREL</th>\n      <th>ELECTRONICS</th>\n      <th>FOOD</th>\n      <th>HEALTH &amp; BEAUTY</th>\n    </tr>\n    <tr>\n      <th>CUSTOMER NUM</th>\n      <th></th>\n      <th></th>\n      <th></th>\n      <th></th>\n    </tr>\n  </thead>\n  <tbody>\n    <tr>\n      <th>10001</th>\n      <td>4022.430</td>\n      <td>1601.315</td>\n      <td>68.688</td>\n      <td>1134.337</td>\n    </tr>\n    <tr>\n      <th>10002</th>\n      <td>2312.509</td>\n      <td>2473.163</td>\n      <td>276.779</td>\n      <td>NaN</td>\n    </tr>\n    <tr>\n      <th>10003</th>\n      <td>2887.382</td>\n      <td>5414.418</td>\n      <td>260.640</td>\n      <td>NaN</td>\n    </tr>\n    <tr>\n      <th>10004</th>\n      <td>3637.213</td>\n      <td>1840.211</td>\n      <td>45.270</td>\n      <td>NaN</td>\n    </tr>\n    <tr>\n      <th>10005</th>\n      <td>213.512</td>\n      <td>NaN</td>\n      <td>NaN</td>\n      <td>NaN</td>\n    </tr>\n  </tbody>\n</table>\n</div>",
                        "text/plain": "PRODUCT CATEGORY   APPAREL  ELECTRONICS     FOOD  HEALTH & BEAUTY\nCUSTOMER NUM                                                     \n10001             4022.430     1601.315   68.688         1134.337\n10002             2312.509     2473.163  276.779              NaN\n10003             2887.382     5414.418  260.640              NaN\n10004             3637.213     1840.211   45.270              NaN\n10005              213.512          NaN      NaN              NaN"
                    },
                    "execution_count": 25,
                    "metadata": {},
                    "output_type": "execute_result"
                }
            ],
            "source": "customer_pivot.head()"
        },
        {
            "cell_type": "code",
            "execution_count": 26,
            "metadata": {},
            "outputs": [],
            "source": "trans_total_spend=trans_products.groupby('CUSTOMER NUM').agg({'Total_Price':'sum'}).\\\nrename(columns={'Total_Price':'TOTAL SPENT'})"
        },
        {
            "cell_type": "code",
            "execution_count": 27,
            "metadata": {},
            "outputs": [
                {
                    "data": {
                        "text/html": "<div>\n<style scoped>\n    .dataframe tbody tr th:only-of-type {\n        vertical-align: middle;\n    }\n\n    .dataframe tbody tr th {\n        vertical-align: top;\n    }\n\n    .dataframe thead th {\n        text-align: right;\n    }\n</style>\n<table border=\"1\" class=\"dataframe\">\n  <thead>\n    <tr style=\"text-align: right;\">\n      <th></th>\n      <th>TOTAL SPENT</th>\n    </tr>\n    <tr>\n      <th>CUSTOMER NUM</th>\n      <th></th>\n    </tr>\n  </thead>\n  <tbody>\n    <tr>\n      <th>10001</th>\n      <td>6826.770</td>\n    </tr>\n    <tr>\n      <th>10002</th>\n      <td>5062.451</td>\n    </tr>\n    <tr>\n      <th>10003</th>\n      <td>8562.440</td>\n    </tr>\n    <tr>\n      <th>10004</th>\n      <td>5522.694</td>\n    </tr>\n    <tr>\n      <th>10005</th>\n      <td>213.512</td>\n    </tr>\n  </tbody>\n</table>\n</div>",
                        "text/plain": "              TOTAL SPENT\nCUSTOMER NUM             \n10001            6826.770\n10002            5062.451\n10003            8562.440\n10004            5522.694\n10005             213.512"
                    },
                    "execution_count": 27,
                    "metadata": {},
                    "output_type": "execute_result"
                }
            ],
            "source": "trans_total_spend.head()"
        },
        {
            "cell_type": "code",
            "execution_count": 28,
            "metadata": {},
            "outputs": [],
            "source": "customer_KPIs=customer_pivot.merge(trans_total_spend,how='inner',left_index=True, right_index=True )"
        },
        {
            "cell_type": "code",
            "execution_count": 29,
            "metadata": {},
            "outputs": [
                {
                    "data": {
                        "text/html": "<div>\n<style scoped>\n    .dataframe tbody tr th:only-of-type {\n        vertical-align: middle;\n    }\n\n    .dataframe tbody tr th {\n        vertical-align: top;\n    }\n\n    .dataframe thead th {\n        text-align: right;\n    }\n</style>\n<table border=\"1\" class=\"dataframe\">\n  <thead>\n    <tr style=\"text-align: right;\">\n      <th></th>\n      <th>APPAREL</th>\n      <th>ELECTRONICS</th>\n      <th>FOOD</th>\n      <th>HEALTH &amp; BEAUTY</th>\n      <th>TOTAL SPENT</th>\n    </tr>\n    <tr>\n      <th>CUSTOMER NUM</th>\n      <th></th>\n      <th></th>\n      <th></th>\n      <th></th>\n      <th></th>\n    </tr>\n  </thead>\n  <tbody>\n    <tr>\n      <th>10001</th>\n      <td>4022.430</td>\n      <td>1601.315</td>\n      <td>68.688</td>\n      <td>1134.337</td>\n      <td>6826.770</td>\n    </tr>\n    <tr>\n      <th>10002</th>\n      <td>2312.509</td>\n      <td>2473.163</td>\n      <td>276.779</td>\n      <td>NaN</td>\n      <td>5062.451</td>\n    </tr>\n    <tr>\n      <th>10003</th>\n      <td>2887.382</td>\n      <td>5414.418</td>\n      <td>260.640</td>\n      <td>NaN</td>\n      <td>8562.440</td>\n    </tr>\n    <tr>\n      <th>10004</th>\n      <td>3637.213</td>\n      <td>1840.211</td>\n      <td>45.270</td>\n      <td>NaN</td>\n      <td>5522.694</td>\n    </tr>\n    <tr>\n      <th>10005</th>\n      <td>213.512</td>\n      <td>NaN</td>\n      <td>NaN</td>\n      <td>NaN</td>\n      <td>213.512</td>\n    </tr>\n  </tbody>\n</table>\n</div>",
                        "text/plain": "               APPAREL  ELECTRONICS     FOOD  HEALTH & BEAUTY  TOTAL SPENT\nCUSTOMER NUM                                                              \n10001         4022.430     1601.315   68.688         1134.337     6826.770\n10002         2312.509     2473.163  276.779              NaN     5062.451\n10003         2887.382     5414.418  260.640              NaN     8562.440\n10004         3637.213     1840.211   45.270              NaN     5522.694\n10005          213.512          NaN      NaN              NaN      213.512"
                    },
                    "execution_count": 29,
                    "metadata": {},
                    "output_type": "execute_result"
                }
            ],
            "source": "customer_KPIs.head()"
        },
        {
            "cell_type": "code",
            "execution_count": 30,
            "metadata": {},
            "outputs": [],
            "source": "customer_KPIs=customer_KPIs.fillna(0)\n"
        },
        {
            "cell_type": "code",
            "execution_count": 31,
            "metadata": {},
            "outputs": [
                {
                    "data": {
                        "text/html": "<div>\n<style scoped>\n    .dataframe tbody tr th:only-of-type {\n        vertical-align: middle;\n    }\n\n    .dataframe tbody tr th {\n        vertical-align: top;\n    }\n\n    .dataframe thead th {\n        text-align: right;\n    }\n</style>\n<table border=\"1\" class=\"dataframe\">\n  <thead>\n    <tr style=\"text-align: right;\">\n      <th></th>\n      <th>APPAREL</th>\n      <th>ELECTRONICS</th>\n      <th>FOOD</th>\n      <th>HEALTH &amp; BEAUTY</th>\n      <th>TOTAL SPENT</th>\n    </tr>\n    <tr>\n      <th>CUSTOMER NUM</th>\n      <th></th>\n      <th></th>\n      <th></th>\n      <th></th>\n      <th></th>\n    </tr>\n  </thead>\n  <tbody>\n    <tr>\n      <th>10001</th>\n      <td>4022.430</td>\n      <td>1601.315</td>\n      <td>68.688</td>\n      <td>1134.337</td>\n      <td>6826.770</td>\n    </tr>\n    <tr>\n      <th>10002</th>\n      <td>2312.509</td>\n      <td>2473.163</td>\n      <td>276.779</td>\n      <td>0.000</td>\n      <td>5062.451</td>\n    </tr>\n    <tr>\n      <th>10003</th>\n      <td>2887.382</td>\n      <td>5414.418</td>\n      <td>260.640</td>\n      <td>0.000</td>\n      <td>8562.440</td>\n    </tr>\n    <tr>\n      <th>10004</th>\n      <td>3637.213</td>\n      <td>1840.211</td>\n      <td>45.270</td>\n      <td>0.000</td>\n      <td>5522.694</td>\n    </tr>\n    <tr>\n      <th>10005</th>\n      <td>213.512</td>\n      <td>0.000</td>\n      <td>0.000</td>\n      <td>0.000</td>\n      <td>213.512</td>\n    </tr>\n  </tbody>\n</table>\n</div>",
                        "text/plain": "               APPAREL  ELECTRONICS     FOOD  HEALTH & BEAUTY  TOTAL SPENT\nCUSTOMER NUM                                                              \n10001         4022.430     1601.315   68.688         1134.337     6826.770\n10002         2312.509     2473.163  276.779            0.000     5062.451\n10003         2887.382     5414.418  260.640            0.000     8562.440\n10004         3637.213     1840.211   45.270            0.000     5522.694\n10005          213.512        0.000    0.000            0.000      213.512"
                    },
                    "execution_count": 31,
                    "metadata": {},
                    "output_type": "execute_result"
                }
            ],
            "source": "customer_KPIs.head()"
        },
        {
            "cell_type": "code",
            "execution_count": 32,
            "metadata": {},
            "outputs": [],
            "source": "customer_all_view=customer_data.merge(customer_KPIs,how='inner', left_on='CUSTOMERID', right_index=True)"
        },
        {
            "cell_type": "code",
            "execution_count": 33,
            "metadata": {},
            "outputs": [
                {
                    "data": {
                        "text/html": "<div>\n<style scoped>\n    .dataframe tbody tr th:only-of-type {\n        vertical-align: middle;\n    }\n\n    .dataframe tbody tr th {\n        vertical-align: top;\n    }\n\n    .dataframe thead th {\n        text-align: right;\n    }\n</style>\n<table border=\"1\" class=\"dataframe\">\n  <thead>\n    <tr style=\"text-align: right;\">\n      <th></th>\n      <th>CUSTOMERID</th>\n      <th>GENDER</th>\n      <th>AGE</th>\n      <th>INCOME</th>\n      <th>EXPERIENCE SCORE</th>\n      <th>LOYALTY GROUP</th>\n      <th>ENROLLMENT DATE</th>\n      <th>HOUSEHOLD SIZE</th>\n      <th>MARITAL STATUS</th>\n      <th>APPAREL</th>\n      <th>ELECTRONICS</th>\n      <th>FOOD</th>\n      <th>HEALTH &amp; BEAUTY</th>\n      <th>TOTAL SPENT</th>\n    </tr>\n  </thead>\n  <tbody>\n    <tr>\n      <th>0</th>\n      <td>10001</td>\n      <td>0</td>\n      <td>64</td>\n      <td>133498</td>\n      <td>5</td>\n      <td>enrolled</td>\n      <td>06-03-2013</td>\n      <td>4</td>\n      <td>Single</td>\n      <td>4022.430</td>\n      <td>1601.315</td>\n      <td>68.688</td>\n      <td>1134.337</td>\n      <td>6826.770</td>\n    </tr>\n    <tr>\n      <th>1</th>\n      <td>10002</td>\n      <td>0</td>\n      <td>42</td>\n      <td>94475</td>\n      <td>9</td>\n      <td>notenrolled</td>\n      <td>NaN</td>\n      <td>6</td>\n      <td>Married</td>\n      <td>2312.509</td>\n      <td>2473.163</td>\n      <td>276.779</td>\n      <td>0.000</td>\n      <td>5062.451</td>\n    </tr>\n    <tr>\n      <th>2</th>\n      <td>10003</td>\n      <td>0</td>\n      <td>40</td>\n      <td>88610</td>\n      <td>9</td>\n      <td>enrolled</td>\n      <td>02-09-2010</td>\n      <td>5</td>\n      <td>Married</td>\n      <td>2887.382</td>\n      <td>5414.418</td>\n      <td>260.640</td>\n      <td>0.000</td>\n      <td>8562.440</td>\n    </tr>\n    <tr>\n      <th>3</th>\n      <td>10004</td>\n      <td>0</td>\n      <td>38</td>\n      <td>84313</td>\n      <td>8</td>\n      <td>enrolled</td>\n      <td>06-04-2015</td>\n      <td>1</td>\n      <td>Single</td>\n      <td>3637.213</td>\n      <td>1840.211</td>\n      <td>45.270</td>\n      <td>0.000</td>\n      <td>5522.694</td>\n    </tr>\n    <tr>\n      <th>4</th>\n      <td>10005</td>\n      <td>0</td>\n      <td>30</td>\n      <td>51498</td>\n      <td>3</td>\n      <td>notenrolled</td>\n      <td>NaN</td>\n      <td>1</td>\n      <td>Single</td>\n      <td>213.512</td>\n      <td>0.000</td>\n      <td>0.000</td>\n      <td>0.000</td>\n      <td>213.512</td>\n    </tr>\n  </tbody>\n</table>\n</div>",
                        "text/plain": "   CUSTOMERID  GENDER  AGE  INCOME  EXPERIENCE SCORE LOYALTY GROUP  \\\n0       10001       0   64  133498                 5      enrolled   \n1       10002       0   42   94475                 9   notenrolled   \n2       10003       0   40   88610                 9      enrolled   \n3       10004       0   38   84313                 8      enrolled   \n4       10005       0   30   51498                 3   notenrolled   \n\n  ENROLLMENT DATE  HOUSEHOLD SIZE MARITAL STATUS   APPAREL  ELECTRONICS  \\\n0      06-03-2013               4         Single  4022.430     1601.315   \n1             NaN               6        Married  2312.509     2473.163   \n2      02-09-2010               5        Married  2887.382     5414.418   \n3      06-04-2015               1         Single  3637.213     1840.211   \n4             NaN               1         Single   213.512        0.000   \n\n      FOOD  HEALTH & BEAUTY  TOTAL SPENT  \n0   68.688         1134.337     6826.770  \n1  276.779            0.000     5062.451  \n2  260.640            0.000     8562.440  \n3   45.270            0.000     5522.694  \n4    0.000            0.000      213.512  "
                    },
                    "execution_count": 33,
                    "metadata": {},
                    "output_type": "execute_result"
                }
            ],
            "source": "customer_all_view.head()"
        },
        {
            "cell_type": "markdown",
            "metadata": {},
            "source": "# Linear Regression "
        },
        {
            "cell_type": "code",
            "execution_count": null,
            "metadata": {},
            "outputs": [],
            "source": "#Begin Writing your code here"
        },
        {
            "cell_type": "code",
            "execution_count": 34,
            "metadata": {},
            "outputs": [
                {
                    "data": {
                        "text/html": "<div>\n<style scoped>\n    .dataframe tbody tr th:only-of-type {\n        vertical-align: middle;\n    }\n\n    .dataframe tbody tr th {\n        vertical-align: top;\n    }\n\n    .dataframe thead th {\n        text-align: right;\n    }\n</style>\n<table border=\"1\" class=\"dataframe\">\n  <thead>\n    <tr style=\"text-align: right;\">\n      <th></th>\n      <th>GENDER</th>\n      <th>AGE</th>\n      <th>INCOME</th>\n      <th>EXPERIENCE SCORE</th>\n      <th>LOYALTY GROUP</th>\n      <th>HOUSEHOLD SIZE</th>\n      <th>MARITAL STATUS</th>\n    </tr>\n  </thead>\n  <tbody>\n    <tr>\n      <th>0</th>\n      <td>0</td>\n      <td>64</td>\n      <td>133498</td>\n      <td>5</td>\n      <td>enrolled</td>\n      <td>4</td>\n      <td>Single</td>\n    </tr>\n    <tr>\n      <th>1</th>\n      <td>0</td>\n      <td>42</td>\n      <td>94475</td>\n      <td>9</td>\n      <td>notenrolled</td>\n      <td>6</td>\n      <td>Married</td>\n    </tr>\n    <tr>\n      <th>2</th>\n      <td>0</td>\n      <td>40</td>\n      <td>88610</td>\n      <td>9</td>\n      <td>enrolled</td>\n      <td>5</td>\n      <td>Married</td>\n    </tr>\n    <tr>\n      <th>3</th>\n      <td>0</td>\n      <td>38</td>\n      <td>84313</td>\n      <td>8</td>\n      <td>enrolled</td>\n      <td>1</td>\n      <td>Single</td>\n    </tr>\n    <tr>\n      <th>4</th>\n      <td>0</td>\n      <td>30</td>\n      <td>51498</td>\n      <td>3</td>\n      <td>notenrolled</td>\n      <td>1</td>\n      <td>Single</td>\n    </tr>\n  </tbody>\n</table>\n</div>",
                        "text/plain": "   GENDER  AGE  INCOME  EXPERIENCE SCORE LOYALTY GROUP  HOUSEHOLD SIZE  \\\n0       0   64  133498                 5      enrolled               4   \n1       0   42   94475                 9   notenrolled               6   \n2       0   40   88610                 9      enrolled               5   \n3       0   38   84313                 8      enrolled               1   \n4       0   30   51498                 3   notenrolled               1   \n\n  MARITAL STATUS  \n0         Single  \n1        Married  \n2        Married  \n3         Single  \n4         Single  "
                    },
                    "execution_count": 34,
                    "metadata": {},
                    "output_type": "execute_result"
                }
            ],
            "source": "#select the following variables to the linear regression model to predict the total spending\n#: gender, age, income, experience score and loyalty enrolment, household size, and marital status.\nDF_input=customer_all_view[['GENDER','AGE','INCOME','EXPERIENCE SCORE','LOYALTY GROUP','HOUSEHOLD SIZE','MARITAL STATUS']]\nDF_input.head()"
        },
        {
            "cell_type": "code",
            "execution_count": 35,
            "metadata": {},
            "outputs": [
                {
                    "data": {
                        "text/plain": "array(['Single', 'Married', 'Divorced', 'Widow/Widower'], dtype=object)"
                    },
                    "execution_count": 35,
                    "metadata": {},
                    "output_type": "execute_result"
                }
            ],
            "source": "#As you can see, Loyalty group and Marital status are strings, so they must be converted to numeric format \n#because the scikit-learn machine learning libraries accept features that are in numeric format. \n#So, we must encode both variables in a numeric format.\n#The Marital status variable has four values: Single, Married, Divorced, and Widow/Widower. \n#Check the marital status by using the following command:\n\nDF_input[\"MARITAL STATUS\"].unique()\n"
        },
        {
            "cell_type": "code",
            "execution_count": 38,
            "metadata": {},
            "outputs": [
                {
                    "data": {
                        "text/html": "<div>\n<style scoped>\n    .dataframe tbody tr th:only-of-type {\n        vertical-align: middle;\n    }\n\n    .dataframe tbody tr th {\n        vertical-align: top;\n    }\n\n    .dataframe thead th {\n        text-align: right;\n    }\n</style>\n<table border=\"1\" class=\"dataframe\">\n  <thead>\n    <tr style=\"text-align: right;\">\n      <th></th>\n      <th>Divorced</th>\n      <th>Married</th>\n      <th>Single</th>\n      <th>Widow/Widower</th>\n    </tr>\n  </thead>\n  <tbody>\n    <tr>\n      <th>0</th>\n      <td>0</td>\n      <td>0</td>\n      <td>1</td>\n      <td>0</td>\n    </tr>\n    <tr>\n      <th>1</th>\n      <td>0</td>\n      <td>1</td>\n      <td>0</td>\n      <td>0</td>\n    </tr>\n    <tr>\n      <th>2</th>\n      <td>0</td>\n      <td>1</td>\n      <td>0</td>\n      <td>0</td>\n    </tr>\n    <tr>\n      <th>3</th>\n      <td>0</td>\n      <td>0</td>\n      <td>1</td>\n      <td>0</td>\n    </tr>\n    <tr>\n      <th>4</th>\n      <td>0</td>\n      <td>0</td>\n      <td>1</td>\n      <td>0</td>\n    </tr>\n    <tr>\n      <th>5</th>\n      <td>0</td>\n      <td>1</td>\n      <td>0</td>\n      <td>0</td>\n    </tr>\n    <tr>\n      <th>6</th>\n      <td>0</td>\n      <td>1</td>\n      <td>0</td>\n      <td>0</td>\n    </tr>\n    <tr>\n      <th>7</th>\n      <td>0</td>\n      <td>0</td>\n      <td>1</td>\n      <td>0</td>\n    </tr>\n    <tr>\n      <th>8</th>\n      <td>0</td>\n      <td>1</td>\n      <td>0</td>\n      <td>0</td>\n    </tr>\n    <tr>\n      <th>9</th>\n      <td>0</td>\n      <td>1</td>\n      <td>0</td>\n      <td>0</td>\n    </tr>\n  </tbody>\n</table>\n</div>",
                        "text/plain": "   Divorced  Married  Single  Widow/Widower\n0         0        0       1              0\n1         0        1       0              0\n2         0        1       0              0\n3         0        0       1              0\n4         0        0       1              0\n5         0        1       0              0\n6         0        1       0              0\n7         0        0       1              0\n8         0        1       0              0\n9         0        1       0              0"
                    },
                    "execution_count": 38,
                    "metadata": {},
                    "output_type": "execute_result"
                }
            ],
            "source": "#Pandas has a method that is called \u201cget_dummies\u201d that detects categorical variables in a \n#Pandas data frame and automatically performs one hot encoding of it(creating a column and assigning \n#a '1' when the column title is true ). To get an idea about \n#Pandas one hot encoding, run the following command.\npd.get_dummies(DF_input[\"MARITAL STATUS\"]).head(10)\n#this coding will be incorporated ito the pandas data frame to highlight the status of each customer"
        },
        {
            "cell_type": "code",
            "execution_count": 40,
            "metadata": {},
            "outputs": [
                {
                    "name": "stderr",
                    "output_type": "stream",
                    "text": "/opt/conda/envs/Python36/lib/python3.6/site-packages/ipykernel/__main__.py:10: SettingWithCopyWarning: \nA value is trying to be set on a copy of a slice from a DataFrame.\nTry using .loc[row_indexer,col_indexer] = value instead\n\nSee the caveats in the documentation: http://pandas.pydata.org/pandas-docs/stable/indexing.html#indexing-view-versus-copy\n"
                },
                {
                    "data": {
                        "text/html": "<div>\n<style scoped>\n    .dataframe tbody tr th:only-of-type {\n        vertical-align: middle;\n    }\n\n    .dataframe tbody tr th {\n        vertical-align: top;\n    }\n\n    .dataframe thead th {\n        text-align: right;\n    }\n</style>\n<table border=\"1\" class=\"dataframe\">\n  <thead>\n    <tr style=\"text-align: right;\">\n      <th></th>\n      <th>GENDER</th>\n      <th>AGE</th>\n      <th>INCOME</th>\n      <th>EXPERIENCE SCORE</th>\n      <th>LOYALTY GROUP</th>\n      <th>HOUSEHOLD SIZE</th>\n      <th>MARITAL STATUS</th>\n    </tr>\n  </thead>\n  <tbody>\n    <tr>\n      <th>0</th>\n      <td>0</td>\n      <td>64</td>\n      <td>133498</td>\n      <td>5</td>\n      <td>1</td>\n      <td>4</td>\n      <td>Single</td>\n    </tr>\n    <tr>\n      <th>1</th>\n      <td>0</td>\n      <td>42</td>\n      <td>94475</td>\n      <td>9</td>\n      <td>0</td>\n      <td>6</td>\n      <td>Married</td>\n    </tr>\n    <tr>\n      <th>2</th>\n      <td>0</td>\n      <td>40</td>\n      <td>88610</td>\n      <td>9</td>\n      <td>1</td>\n      <td>5</td>\n      <td>Married</td>\n    </tr>\n    <tr>\n      <th>3</th>\n      <td>0</td>\n      <td>38</td>\n      <td>84313</td>\n      <td>8</td>\n      <td>1</td>\n      <td>1</td>\n      <td>Single</td>\n    </tr>\n    <tr>\n      <th>4</th>\n      <td>0</td>\n      <td>30</td>\n      <td>51498</td>\n      <td>3</td>\n      <td>0</td>\n      <td>1</td>\n      <td>Single</td>\n    </tr>\n  </tbody>\n</table>\n</div>",
                        "text/plain": "   GENDER  AGE  INCOME  EXPERIENCE SCORE  LOYALTY GROUP  HOUSEHOLD SIZE  \\\n0       0   64  133498                 5              1               4   \n1       0   42   94475                 9              0               6   \n2       0   40   88610                 9              1               5   \n3       0   38   84313                 8              1               1   \n4       0   30   51498                 3              0               1   \n\n  MARITAL STATUS  \n0         Single  \n1        Married  \n2        Married  \n3         Single  \n4         Single  "
                    },
                    "execution_count": 40,
                    "metadata": {},
                    "output_type": "execute_result"
                }
            ],
            "source": "#The Loyalty group has two values: \u201cenrolled\u201d and \u201cnotenrolled\u201d. The encoding of this variable \n#is easy(binary encoding) and can be accomplished by using a simple function instead of the Pandas \u201cpd.get_dummies\u201c function. \n#Run this code snippet function in a new cell to binary encode the loyalty variable:\n\ndef encode_loyalty(value):\n    if value == \"enrolled\" :\n        return 1 \n    else : \n        return 0\nDF_input['LOYALTY GROUP']=DF_input['LOYALTY GROUP'].apply(encode_loyalty)\nDF_input.head()\n#ignore the exception"
        },
        {
            "cell_type": "code",
            "execution_count": 41,
            "metadata": {},
            "outputs": [
                {
                    "data": {
                        "text/html": "<div>\n<style scoped>\n    .dataframe tbody tr th:only-of-type {\n        vertical-align: middle;\n    }\n\n    .dataframe tbody tr th {\n        vertical-align: top;\n    }\n\n    .dataframe thead th {\n        text-align: right;\n    }\n</style>\n<table border=\"1\" class=\"dataframe\">\n  <thead>\n    <tr style=\"text-align: right;\">\n      <th></th>\n      <th>GENDER</th>\n      <th>AGE</th>\n      <th>INCOME</th>\n      <th>EXPERIENCE SCORE</th>\n      <th>LOYALTY GROUP</th>\n      <th>HOUSEHOLD SIZE</th>\n      <th>MARITAL STATUS_Divorced</th>\n      <th>MARITAL STATUS_Married</th>\n      <th>MARITAL STATUS_Single</th>\n      <th>MARITAL STATUS_Widow/Widower</th>\n    </tr>\n  </thead>\n  <tbody>\n    <tr>\n      <th>0</th>\n      <td>0</td>\n      <td>64</td>\n      <td>133498</td>\n      <td>5</td>\n      <td>1</td>\n      <td>4</td>\n      <td>0</td>\n      <td>0</td>\n      <td>1</td>\n      <td>0</td>\n    </tr>\n    <tr>\n      <th>1</th>\n      <td>0</td>\n      <td>42</td>\n      <td>94475</td>\n      <td>9</td>\n      <td>0</td>\n      <td>6</td>\n      <td>0</td>\n      <td>1</td>\n      <td>0</td>\n      <td>0</td>\n    </tr>\n    <tr>\n      <th>2</th>\n      <td>0</td>\n      <td>40</td>\n      <td>88610</td>\n      <td>9</td>\n      <td>1</td>\n      <td>5</td>\n      <td>0</td>\n      <td>1</td>\n      <td>0</td>\n      <td>0</td>\n    </tr>\n    <tr>\n      <th>3</th>\n      <td>0</td>\n      <td>38</td>\n      <td>84313</td>\n      <td>8</td>\n      <td>1</td>\n      <td>1</td>\n      <td>0</td>\n      <td>0</td>\n      <td>1</td>\n      <td>0</td>\n    </tr>\n    <tr>\n      <th>4</th>\n      <td>0</td>\n      <td>30</td>\n      <td>51498</td>\n      <td>3</td>\n      <td>0</td>\n      <td>1</td>\n      <td>0</td>\n      <td>0</td>\n      <td>1</td>\n      <td>0</td>\n    </tr>\n  </tbody>\n</table>\n</div>",
                        "text/plain": "   GENDER  AGE  INCOME  EXPERIENCE SCORE  LOYALTY GROUP  HOUSEHOLD SIZE  \\\n0       0   64  133498                 5              1               4   \n1       0   42   94475                 9              0               6   \n2       0   40   88610                 9              1               5   \n3       0   38   84313                 8              1               1   \n4       0   30   51498                 3              0               1   \n\n   MARITAL STATUS_Divorced  MARITAL STATUS_Married  MARITAL STATUS_Single  \\\n0                        0                       0                      1   \n1                        0                       1                      0   \n2                        0                       1                      0   \n3                        0                       0                      1   \n4                        0                       0                      1   \n\n   MARITAL STATUS_Widow/Widower  \n0                             0  \n1                             0  \n2                             0  \n3                             0  \n4                             0  "
                    },
                    "execution_count": 41,
                    "metadata": {},
                    "output_type": "execute_result"
                }
            ],
            "source": "#replacing the \u201cDF_input\u201d frame with the one-hot encoded Pandas data frame by running the following command:\n\nDF_input=pd.get_dummies(DF_input)\nDF_input.head()"
        },
        {
            "cell_type": "code",
            "execution_count": 44,
            "metadata": {},
            "outputs": [
                {
                    "name": "stderr",
                    "output_type": "stream",
                    "text": "/opt/conda/envs/Python36/lib/python3.6/site-packages/ipykernel/__main__.py:8: DataConversionWarning: Data with input dtype uint8, int64 were all converted to float64.\n"
                },
                {
                    "data": {
                        "text/html": "<div>\n<style scoped>\n    .dataframe tbody tr th:only-of-type {\n        vertical-align: middle;\n    }\n\n    .dataframe tbody tr th {\n        vertical-align: top;\n    }\n\n    .dataframe thead th {\n        text-align: right;\n    }\n</style>\n<table border=\"1\" class=\"dataframe\">\n  <thead>\n    <tr style=\"text-align: right;\">\n      <th></th>\n      <th>GENDER</th>\n      <th>AGE</th>\n      <th>INCOME</th>\n      <th>EXPERIENCE SCORE</th>\n      <th>LOYALTY GROUP</th>\n      <th>HOUSEHOLD SIZE</th>\n      <th>MARITAL STATUS_Divorced</th>\n      <th>MARITAL STATUS_Married</th>\n      <th>MARITAL STATUS_Single</th>\n      <th>MARITAL STATUS_Widow/Widower</th>\n    </tr>\n  </thead>\n  <tbody>\n    <tr>\n      <th>0</th>\n      <td>0.0</td>\n      <td>0.638889</td>\n      <td>0.872818</td>\n      <td>0.444444</td>\n      <td>1.0</td>\n      <td>0.6</td>\n      <td>0.0</td>\n      <td>0.0</td>\n      <td>1.0</td>\n      <td>0.0</td>\n    </tr>\n    <tr>\n      <th>1</th>\n      <td>0.0</td>\n      <td>0.333333</td>\n      <td>0.572046</td>\n      <td>0.888889</td>\n      <td>0.0</td>\n      <td>1.0</td>\n      <td>0.0</td>\n      <td>1.0</td>\n      <td>0.0</td>\n      <td>0.0</td>\n    </tr>\n    <tr>\n      <th>2</th>\n      <td>0.0</td>\n      <td>0.305556</td>\n      <td>0.526842</td>\n      <td>0.888889</td>\n      <td>1.0</td>\n      <td>0.8</td>\n      <td>0.0</td>\n      <td>1.0</td>\n      <td>0.0</td>\n      <td>0.0</td>\n    </tr>\n    <tr>\n      <th>3</th>\n      <td>0.0</td>\n      <td>0.277778</td>\n      <td>0.493722</td>\n      <td>0.777778</td>\n      <td>1.0</td>\n      <td>0.0</td>\n      <td>0.0</td>\n      <td>0.0</td>\n      <td>1.0</td>\n      <td>0.0</td>\n    </tr>\n    <tr>\n      <th>4</th>\n      <td>0.0</td>\n      <td>0.166667</td>\n      <td>0.240799</td>\n      <td>0.222222</td>\n      <td>0.0</td>\n      <td>0.0</td>\n      <td>0.0</td>\n      <td>0.0</td>\n      <td>1.0</td>\n      <td>0.0</td>\n    </tr>\n  </tbody>\n</table>\n</div>",
                        "text/plain": "   GENDER       AGE    INCOME  EXPERIENCE SCORE  LOYALTY GROUP  \\\n0     0.0  0.638889  0.872818          0.444444            1.0   \n1     0.0  0.333333  0.572046          0.888889            0.0   \n2     0.0  0.305556  0.526842          0.888889            1.0   \n3     0.0  0.277778  0.493722          0.777778            1.0   \n4     0.0  0.166667  0.240799          0.222222            0.0   \n\n   HOUSEHOLD SIZE  MARITAL STATUS_Divorced  MARITAL STATUS_Married  \\\n0             0.6                      0.0                     0.0   \n1             1.0                      0.0                     1.0   \n2             0.8                      0.0                     1.0   \n3             0.0                      0.0                     0.0   \n4             0.0                      0.0                     0.0   \n\n   MARITAL STATUS_Single  MARITAL STATUS_Widow/Widower  \n0                    1.0                           0.0  \n1                    0.0                           0.0  \n2                    0.0                           0.0  \n3                    1.0                           0.0  \n4                    1.0                           0.0  "
                    },
                    "execution_count": 44,
                    "metadata": {},
                    "output_type": "execute_result"
                }
            ],
            "source": "#Before feeding the data frame to the LinearRegession Scikit-learn library, scale the features to the 0 - 1 \n#range because every input variable has its own scale. \n#To do this, Import the pre-processing library and save the Pandas columns to re-create the Pandas data frame \n#for the NumPy format by running the following command (the minmax scale command outputs NumPy):\n\nfrom sklearn import preprocessing\nDF_input_column_names = DF_input.columns.values\nDF_input_np=preprocessing.minmax_scale(DF_input)\nReg_input_scaled=pd.DataFrame(DF_input_np, columns=DF_input_column_names)\nReg_input_scaled.head()\n"
        },
        {
            "cell_type": "code",
            "execution_count": 45,
            "metadata": {},
            "outputs": [],
            "source": "#Create a train \u2013 test split of 80% training and 20% testing by running the following command:\n\nfrom sklearn.model_selection import train_test_split\nX_train,X_test,Y_train,Y_test = train_test_split(Reg_input_scaled,customer_all_view['TOTAL SPENT'], test_size=0.2,random_state=42)"
        },
        {
            "cell_type": "code",
            "execution_count": 46,
            "metadata": {},
            "outputs": [
                {
                    "data": {
                        "text/plain": "LinearRegression(copy_X=True, fit_intercept=True, n_jobs=None,\n         normalize=False)"
                    },
                    "execution_count": 46,
                    "metadata": {},
                    "output_type": "execute_result"
                }
            ],
            "source": "#Import the LinearRegression Library by running the following command:\n\nfrom sklearn.linear_model import LinearRegression\n\n#Instantiate the model by running the following command:\n\nregr = LinearRegression()\n\n#Train the model on the training data set by running the following command::\n\nregr.fit(X_train, Y_train)"
        },
        {
            "cell_type": "code",
            "execution_count": 47,
            "metadata": {},
            "outputs": [],
            "source": "#Now that training is complete, you can predict the values of total spending for the testing feature \n#set by running the following command:\n\nY_pred = regr.predict(X_test)"
        },
        {
            "cell_type": "code",
            "execution_count": 49,
            "metadata": {},
            "outputs": [
                {
                    "name": "stdout",
                    "output_type": "stream",
                    "text": "Coefficients: \n [   35.58494877 -7076.18001534 12403.0952701    505.84578936\n  1566.48092344  1040.19923196   377.33573376   -82.02665324\n   -34.57620088  -260.73287964]\n"
                }
            ],
            "source": "#Obtain the regression coefficients of the linear model by running the \u201cregr.coef_\u201d method:\n\nprint('Coefficients: \\n', regr.coef_)\n#The importance of a predictor can be measured by the magnitude of its regression coefficient. \n#High-magnitude coefficients mean high importance and lower magnitudes means less importance regarding \n#target variables( (ignore sign because sign just means the direction of the correlation).\n#High importance to low importance: The order is Income, Age, Loyalty Group, Household size,\n#Experience score, Marital Status, and Gender."
        },
        {
            "cell_type": "code",
            "execution_count": 50,
            "metadata": {},
            "outputs": [
                {
                    "name": "stdout",
                    "output_type": "stream",
                    "text": "intercept: \n -38.16947521866132\n"
                }
            ],
            "source": "#Obtain the constant or intercept term of the equation by running the following command:\n\nprint('intercept: \\n', regr.intercept_)"
        },
        {
            "cell_type": "code",
            "execution_count": 51,
            "metadata": {},
            "outputs": [],
            "source": "#Thus the The linear regression equation to predict total spending is as follows:\n\n#Predicted Total Spend = 35.58 * Gender - 7076 * AGE + 12403 * Income + 505 * Experience score + 155 * Loyalty group + 1040 * House hold size + 377.3 * (Marital Status \u2013 Divorced) \u2013 82.02 * (Marital Status \u2013 Married) - 35.57 * (Marital Status \u2013 Single) - 260 * (Marital Status \u2013 Widow) - 38.17"
        },
        {
            "cell_type": "code",
            "execution_count": 52,
            "metadata": {},
            "outputs": [
                {
                    "name": "stdout",
                    "output_type": "stream",
                    "text": "Mean squared error: 3164098.64\n"
                }
            ],
            "source": "#Evaluate the performance of the linear model by calculating the mean squared error. \n#Import its library and then apply the function to Predicted and actual values of customer \n#spending by running the following command:\n\nfrom sklearn.metrics import mean_squared_error\nprint(\"Mean squared error: %.2f\" % mean_squared_error(Y_test, Y_pred))\n#the mean squared error is 3164098.64 which means the error is 1779. \n#Thus the model prdicts the total spending with an error of $1779."
        },
        {
            "cell_type": "code",
            "execution_count": 53,
            "metadata": {},
            "outputs": [],
            "source": "#In the project, you used every customer feature as input to the linear regression model and \n#determined whether these features have a strong or weak relationship with customer spending. \n#Now, perform a bivariate analysis between each feature and the total spending variable and \n#Select only the relevant features (the features that have a strong relationship with customer spending) \n#and retrain the linear regression model by using only these features. Then, evaluate the model by using \n#the mean squared error metric."
        },
        {
            "cell_type": "code",
            "execution_count": 54,
            "metadata": {},
            "outputs": [
                {
                    "data": {
                        "text/html": "<div>\n<style scoped>\n    .dataframe tbody tr th:only-of-type {\n        vertical-align: middle;\n    }\n\n    .dataframe tbody tr th {\n        vertical-align: top;\n    }\n\n    .dataframe thead th {\n        text-align: right;\n    }\n</style>\n<table border=\"1\" class=\"dataframe\">\n  <thead>\n    <tr style=\"text-align: right;\">\n      <th></th>\n      <th>AGE</th>\n      <th>INCOME</th>\n      <th>LOYALTY GROUP</th>\n      <th>HOUSEHOLD SIZE</th>\n    </tr>\n  </thead>\n  <tbody>\n    <tr>\n      <th>0</th>\n      <td>64</td>\n      <td>133498</td>\n      <td>enrolled</td>\n      <td>4</td>\n    </tr>\n    <tr>\n      <th>1</th>\n      <td>42</td>\n      <td>94475</td>\n      <td>notenrolled</td>\n      <td>6</td>\n    </tr>\n    <tr>\n      <th>2</th>\n      <td>40</td>\n      <td>88610</td>\n      <td>enrolled</td>\n      <td>5</td>\n    </tr>\n    <tr>\n      <th>3</th>\n      <td>38</td>\n      <td>84313</td>\n      <td>enrolled</td>\n      <td>1</td>\n    </tr>\n    <tr>\n      <th>4</th>\n      <td>30</td>\n      <td>51498</td>\n      <td>notenrolled</td>\n      <td>1</td>\n    </tr>\n  </tbody>\n</table>\n</div>",
                        "text/plain": "   AGE  INCOME LOYALTY GROUP  HOUSEHOLD SIZE\n0   64  133498      enrolled               4\n1   42   94475   notenrolled               6\n2   40   88610      enrolled               5\n3   38   84313      enrolled               1\n4   30   51498   notenrolled               1"
                    },
                    "execution_count": 54,
                    "metadata": {},
                    "output_type": "execute_result"
                }
            ],
            "source": "DF_input=customer_all_view[['AGE','INCOME','LOYALTY GROUP','HOUSEHOLD SIZE']]\nDF_input.head()\n"
        },
        {
            "cell_type": "code",
            "execution_count": 55,
            "metadata": {},
            "outputs": [
                {
                    "name": "stderr",
                    "output_type": "stream",
                    "text": "/opt/conda/envs/Python36/lib/python3.6/site-packages/ipykernel/__main__.py:6: SettingWithCopyWarning: \nA value is trying to be set on a copy of a slice from a DataFrame.\nTry using .loc[row_indexer,col_indexer] = value instead\n\nSee the caveats in the documentation: http://pandas.pydata.org/pandas-docs/stable/indexing.html#indexing-view-versus-copy\n"
                },
                {
                    "data": {
                        "text/html": "<div>\n<style scoped>\n    .dataframe tbody tr th:only-of-type {\n        vertical-align: middle;\n    }\n\n    .dataframe tbody tr th {\n        vertical-align: top;\n    }\n\n    .dataframe thead th {\n        text-align: right;\n    }\n</style>\n<table border=\"1\" class=\"dataframe\">\n  <thead>\n    <tr style=\"text-align: right;\">\n      <th></th>\n      <th>AGE</th>\n      <th>INCOME</th>\n      <th>LOYALTY GROUP</th>\n      <th>HOUSEHOLD SIZE</th>\n    </tr>\n  </thead>\n  <tbody>\n    <tr>\n      <th>0</th>\n      <td>64</td>\n      <td>133498</td>\n      <td>1</td>\n      <td>4</td>\n    </tr>\n    <tr>\n      <th>1</th>\n      <td>42</td>\n      <td>94475</td>\n      <td>0</td>\n      <td>6</td>\n    </tr>\n    <tr>\n      <th>2</th>\n      <td>40</td>\n      <td>88610</td>\n      <td>1</td>\n      <td>5</td>\n    </tr>\n    <tr>\n      <th>3</th>\n      <td>38</td>\n      <td>84313</td>\n      <td>1</td>\n      <td>1</td>\n    </tr>\n    <tr>\n      <th>4</th>\n      <td>30</td>\n      <td>51498</td>\n      <td>0</td>\n      <td>1</td>\n    </tr>\n  </tbody>\n</table>\n</div>",
                        "text/plain": "   AGE  INCOME  LOYALTY GROUP  HOUSEHOLD SIZE\n0   64  133498              1               4\n1   42   94475              0               6\n2   40   88610              1               5\n3   38   84313              1               1\n4   30   51498              0               1"
                    },
                    "execution_count": 55,
                    "metadata": {},
                    "output_type": "execute_result"
                }
            ],
            "source": "def encode_loyalty(value):\n    if value == \"enrolled\" :\n        return 1 \n    else : \n        return 0\nDF_input['LOYALTY GROUP']=DF_input['LOYALTY GROUP'].apply(encode_loyalty)\nDF_input.head()\n"
        },
        {
            "cell_type": "code",
            "execution_count": 56,
            "metadata": {},
            "outputs": [
                {
                    "name": "stderr",
                    "output_type": "stream",
                    "text": "/opt/conda/envs/Python36/lib/python3.6/site-packages/ipykernel/__main__.py:3: DataConversionWarning: Data with input dtype int64 were all converted to float64.\n  app.launch_new_instance()\n"
                },
                {
                    "data": {
                        "text/html": "<div>\n<style scoped>\n    .dataframe tbody tr th:only-of-type {\n        vertical-align: middle;\n    }\n\n    .dataframe tbody tr th {\n        vertical-align: top;\n    }\n\n    .dataframe thead th {\n        text-align: right;\n    }\n</style>\n<table border=\"1\" class=\"dataframe\">\n  <thead>\n    <tr style=\"text-align: right;\">\n      <th></th>\n      <th>AGE</th>\n      <th>INCOME</th>\n      <th>LOYALTY GROUP</th>\n      <th>HOUSEHOLD SIZE</th>\n    </tr>\n  </thead>\n  <tbody>\n    <tr>\n      <th>0</th>\n      <td>0.638889</td>\n      <td>0.872818</td>\n      <td>1.0</td>\n      <td>0.6</td>\n    </tr>\n    <tr>\n      <th>1</th>\n      <td>0.333333</td>\n      <td>0.572046</td>\n      <td>0.0</td>\n      <td>1.0</td>\n    </tr>\n    <tr>\n      <th>2</th>\n      <td>0.305556</td>\n      <td>0.526842</td>\n      <td>1.0</td>\n      <td>0.8</td>\n    </tr>\n    <tr>\n      <th>3</th>\n      <td>0.277778</td>\n      <td>0.493722</td>\n      <td>1.0</td>\n      <td>0.0</td>\n    </tr>\n    <tr>\n      <th>4</th>\n      <td>0.166667</td>\n      <td>0.240799</td>\n      <td>0.0</td>\n      <td>0.0</td>\n    </tr>\n  </tbody>\n</table>\n</div>",
                        "text/plain": "        AGE    INCOME  LOYALTY GROUP  HOUSEHOLD SIZE\n0  0.638889  0.872818            1.0             0.6\n1  0.333333  0.572046            0.0             1.0\n2  0.305556  0.526842            1.0             0.8\n3  0.277778  0.493722            1.0             0.0\n4  0.166667  0.240799            0.0             0.0"
                    },
                    "execution_count": 56,
                    "metadata": {},
                    "output_type": "execute_result"
                }
            ],
            "source": "from sklearn import preprocessing\nDF_input_column_names = DF_input.columns.values\nDF_input_np=preprocessing.minmax_scale(DF_input)\nReg_input_scaled=pd.DataFrame(DF_input_np, columns=DF_input_column_names)\nReg_input_scaled.head()\n"
        },
        {
            "cell_type": "code",
            "execution_count": 57,
            "metadata": {},
            "outputs": [],
            "source": "from sklearn.model_selection import train_test_split\nX_train,X_test,Y_train,Y_test = train_test_split(Reg_input_scaled,customer_all_view['TOTAL SPENT'], test_size=0.2,random_state=42)\n"
        },
        {
            "cell_type": "code",
            "execution_count": 58,
            "metadata": {},
            "outputs": [
                {
                    "data": {
                        "text/plain": "LinearRegression(copy_X=True, fit_intercept=True, n_jobs=None,\n         normalize=False)"
                    },
                    "execution_count": 58,
                    "metadata": {},
                    "output_type": "execute_result"
                }
            ],
            "source": "from sklearn.linear_model import LinearRegression\n#Instantiate the model by running the following command:\nregr = LinearRegression()\n#Train the model on the training data set by running the following command::\nregr.fit(X_train, Y_train)\n"
        },
        {
            "cell_type": "code",
            "execution_count": 59,
            "metadata": {},
            "outputs": [],
            "source": "Y_pred = regr.predict(X_test)"
        },
        {
            "cell_type": "code",
            "execution_count": 60,
            "metadata": {},
            "outputs": [
                {
                    "name": "stdout",
                    "output_type": "stream",
                    "text": "Coefficients: \n [-7170.27726484 12496.40444648  1652.00843692   917.88476273]\nintercept: \n 239.3234097961722\n"
                }
            ],
            "source": "print('Coefficients: \\n', regr.coef_)\nprint('intercept: \\n', regr.intercept_)\n"
        },
        {
            "cell_type": "code",
            "execution_count": 61,
            "metadata": {},
            "outputs": [
                {
                    "name": "stdout",
                    "output_type": "stream",
                    "text": "Mean squared error: 3186316.30\n"
                }
            ],
            "source": "from sklearn.metrics import mean_squared_error\nprint(\"Mean squared error: %.2f\" % mean_squared_error(Y_test, Y_pred))\n"
        },
        {
            "cell_type": "code",
            "execution_count": null,
            "metadata": {},
            "outputs": [],
            "source": "#Take away, the more the predictprs the better?"
        }
    ],
    "metadata": {
        "kernelspec": {
            "display_name": "Python 3.6",
            "language": "python",
            "name": "python3"
        },
        "language_info": {
            "codemirror_mode": {
                "name": "ipython",
                "version": 3
            },
            "file_extension": ".py",
            "mimetype": "text/x-python",
            "name": "python",
            "nbconvert_exporter": "python",
            "pygments_lexer": "ipython3",
            "version": "3.6.9"
        }
    },
    "nbformat": 4,
    "nbformat_minor": 1
}